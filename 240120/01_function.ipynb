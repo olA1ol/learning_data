{
 "cells": [
  {
   "cell_type": "markdown",
   "metadata": {},
   "source": [
    "# 문자열 내장함수\n",
    "## 123"
   ]
  },
  {
   "cell_type": "code",
   "execution_count": 2,
   "metadata": {},
   "outputs": [
    {
     "name": "stdout",
     "output_type": "stream",
     "text": [
      "HELLO WORLD\n",
      "hello world\n",
      "hELLO WORLD\n",
      "Hello World\n"
     ]
    }
   ],
   "source": [
    "# 문자열을 대,소문자 변경\n",
    "\n",
    "\n",
    "a_text = \"Hello world\"\n",
    "\n",
    "# upper() : 모든 문자열을 대문자로 변경\n",
    "print(a_text.upper())\n",
    "# lower() : 모든 문자열을 소문자로 변경\n",
    "print(a_text.lower())\n",
    "# swapcase() : 대문자를 소문자로, 소문자를 대문자로 변경\n",
    "print(a_text.swapcase())\n",
    "# title() : 단어의 첫 글자를 대문자로 변경\n",
    "print(a_text.title())"
   ]
  },
  {
   "cell_type": "code",
   "execution_count": 3,
   "metadata": {},
   "outputs": [
    {
     "name": "stdout",
     "output_type": "stream",
     "text": [
      "   Hello world    \n"
     ]
    }
   ],
   "source": [
    "# 공백을 제거하는 함수\n",
    "# strip() : 문자열의 좌우의 공백을 제거\n",
    "# lstrip() : 문자열 좌측의 공백을 제거\n",
    "# rstrip() : 문자열 우측의 공백을 제거\n",
    "b_text = \"   Hello world    \"\n",
    "print(b_text)"
   ]
  },
  {
   "cell_type": "code",
   "execution_count": 4,
   "metadata": {},
   "outputs": [
    {
     "data": {
      "text/plain": [
       "'   Hello world    '"
      ]
     },
     "execution_count": 4,
     "metadata": {},
     "output_type": "execute_result"
    }
   ],
   "source": [
    "b_text"
   ]
  },
  {
   "cell_type": "code",
   "execution_count": 5,
   "metadata": {},
   "outputs": [
    {
     "data": {
      "text/plain": [
       "'Hello world'"
      ]
     },
     "execution_count": 5,
     "metadata": {},
     "output_type": "execute_result"
    }
   ],
   "source": [
    "# 좌우의 공백을 제거\n",
    "b_text.strip()"
   ]
  },
  {
   "cell_type": "code",
   "execution_count": 6,
   "metadata": {},
   "outputs": [
    {
     "data": {
      "text/plain": [
       "'   Hello world    '"
      ]
     },
     "execution_count": 6,
     "metadata": {},
     "output_type": "execute_result"
    }
   ],
   "source": [
    "b_text"
   ]
  },
  {
   "cell_type": "code",
   "execution_count": 7,
   "metadata": {},
   "outputs": [
    {
     "data": {
      "text/plain": [
       "'   Hello world'"
      ]
     },
     "execution_count": 7,
     "metadata": {},
     "output_type": "execute_result"
    }
   ],
   "source": [
    "b_text.lstrip()\n",
    "b_text.rstrip()\n",
    "#이런 경우 마지막 함수 값만 보여줌"
   ]
  },
  {
   "cell_type": "code",
   "execution_count": 8,
   "metadata": {},
   "outputs": [
    {
     "data": {
      "text/plain": [
       "'Hello world    '"
      ]
     },
     "execution_count": 8,
     "metadata": {},
     "output_type": "execute_result"
    }
   ],
   "source": [
    "# 좌측의 공백을 제거\n",
    "b_text.lstrip()"
   ]
  },
  {
   "cell_type": "code",
   "execution_count": 9,
   "metadata": {},
   "outputs": [
    {
     "data": {
      "text/plain": [
       "'   Hello world'"
      ]
     },
     "execution_count": 9,
     "metadata": {},
     "output_type": "execute_result"
    }
   ],
   "source": [
    "# 우측의 공백을 제거\n",
    "b_text.rstrip()"
   ]
  },
  {
   "cell_type": "code",
   "execution_count": 10,
   "metadata": {},
   "outputs": [
    {
     "name": "stdout",
     "output_type": "stream",
     "text": [
      "$$Hello%%\n"
     ]
    }
   ],
   "source": [
    "c_text = \"$$Hello%%\"\n",
    "print(c_text)"
   ]
  },
  {
   "cell_type": "code",
   "execution_count": 11,
   "metadata": {},
   "outputs": [
    {
     "data": {
      "text/plain": [
       "'Hello%%'"
      ]
     },
     "execution_count": 11,
     "metadata": {},
     "output_type": "execute_result"
    }
   ],
   "source": [
    "#좌측에 있는 달러만 지우고 싶다\n",
    "c_text.lstrip('$')\n",
    "#strip 함수에 특정 문자를 넣으면, 해당 문자를 지워준다."
   ]
  },
  {
   "cell_type": "code",
   "execution_count": 12,
   "metadata": {},
   "outputs": [
    {
     "data": {
      "text/plain": [
       "'$$Hello'"
      ]
     },
     "execution_count": 12,
     "metadata": {},
     "output_type": "execute_result"
    }
   ],
   "source": [
    "# 우측의 %를 제거\n",
    "c_text.rstrip('%')"
   ]
  },
  {
   "cell_type": "code",
   "execution_count": 13,
   "metadata": {},
   "outputs": [
    {
     "data": {
      "text/plain": [
       "'Hi World'"
      ]
     },
     "execution_count": 13,
     "metadata": {},
     "output_type": "execute_result"
    }
   ],
   "source": [
    "# replace({치환할 문자열}, {치환이 될 문자열})\n",
    "c_text = 'Hello World'\n",
    "c_text.replace('Hello', 'Hi')"
   ]
  },
  {
   "cell_type": "code",
   "execution_count": 14,
   "metadata": {},
   "outputs": [
    {
     "data": {
      "text/plain": [
       "'    Hello World   '"
      ]
     },
     "execution_count": 14,
     "metadata": {},
     "output_type": "execute_result"
    }
   ],
   "source": [
    "# replace()함수를 이용하여 문자열의 공백을 제거\n",
    "d_text = \"    Hello World   \"\n",
    "d_text"
   ]
  },
  {
   "cell_type": "code",
   "execution_count": 17,
   "metadata": {},
   "outputs": [
    {
     "data": {
      "text/plain": [
       "'HelloWorld'"
      ]
     },
     "execution_count": 17,
     "metadata": {},
     "output_type": "execute_result"
    }
   ],
   "source": [
    "d_text.replace(\" \", \"\")\n",
    "\n",
    "# 이랬을 때, 가운데 있는 공백도 다 지워짐"
   ]
  },
  {
   "cell_type": "code",
   "execution_count": 18,
   "metadata": {},
   "outputs": [
    {
     "data": {
      "text/plain": [
       "'    Hello World   '"
      ]
     },
     "execution_count": 18,
     "metadata": {},
     "output_type": "execute_result"
    }
   ],
   "source": [
    "d_text"
   ]
  },
  {
   "cell_type": "code",
   "execution_count": 19,
   "metadata": {},
   "outputs": [
    {
     "data": {
      "text/plain": [
       "['a', 'b', 'c', 'd']"
      ]
     },
     "execution_count": 19,
     "metadata": {},
     "output_type": "execute_result"
    }
   ],
   "source": [
    "# split() : 특정한 문자열을 이용하여 문자열을 나눠주는 함수\n",
    "e_text = \"a,b,c,d\"\n",
    "e_text.split(',')"
   ]
  },
  {
   "cell_type": "code",
   "execution_count": 20,
   "metadata": {},
   "outputs": [
    {
     "data": {
      "text/plain": [
       "['a', 'b', 'c', 'd']"
      ]
     },
     "execution_count": 20,
     "metadata": {},
     "output_type": "execute_result"
    }
   ],
   "source": [
    "f_text = 'a/b/c/d'\n",
    "f_text.split('/')"
   ]
  },
  {
   "cell_type": "code",
   "execution_count": 21,
   "metadata": {},
   "outputs": [
    {
     "data": {
      "text/plain": [
       "-1"
      ]
     },
     "execution_count": 21,
     "metadata": {},
     "output_type": "execute_result"
    }
   ],
   "source": [
    "a = 'Hello'\n",
    "a.find('b')"
   ]
  },
  {
   "cell_type": "markdown",
   "metadata": {},
   "source": [
    "### 함수\n",
    "\n",
    "- 어떠한 입력값을 가지고 작업을 실행하고 결과물을 출력한다."
   ]
  },
  {
   "cell_type": "code",
   "execution_count": 22,
   "metadata": {},
   "outputs": [],
   "source": [
    "# 매개변수가 존재하지 않는 함수를 생성\n",
    "# 매개변수가 존재하지 않으면 함수를 동일한 행동을 반복\n",
    "def func_1():\n",
    "    result = 'Hello'\n",
    "    return result"
   ]
  },
  {
   "cell_type": "code",
   "execution_count": 24,
   "metadata": {},
   "outputs": [
    {
     "name": "stdout",
     "output_type": "stream",
     "text": [
      "Hello\n",
      "Hello\n",
      "Hello\n"
     ]
    }
   ],
   "source": [
    "print(func_1())\n",
    "print(func_1())\n",
    "print(func_1())"
   ]
  },
  {
   "cell_type": "code",
   "execution_count": 26,
   "metadata": {},
   "outputs": [
    {
     "ename": "TypeError",
     "evalue": "func_1() takes 0 positional arguments but 1 was given",
     "output_type": "error",
     "traceback": [
      "\u001b[1;31m---------------------------------------------------------------------------\u001b[0m",
      "\u001b[1;31mTypeError\u001b[0m                                 Traceback (most recent call last)",
      "\u001b[1;32md:\\240120\\240120\\01_function.ipynb 셀 23\u001b[0m line \u001b[0;36m1\n\u001b[1;32m----> <a href='vscode-notebook-cell:/d%3A/240120/240120/01_function.ipynb#X33sZmlsZQ%3D%3D?line=0'>1</a>\u001b[0m \u001b[39mprint\u001b[39m(func_1(\u001b[39m'\u001b[39;49m\u001b[39ma\u001b[39;49m\u001b[39m'\u001b[39;49m))\n",
      "\u001b[1;31mTypeError\u001b[0m: func_1() takes 0 positional arguments but 1 was given"
     ]
    }
   ],
   "source": [
    "#에러가 나는 예시 = 인자의 개수와 매개변수의 개수가 같아야 한다.\n",
    "print(func_1('a'))"
   ]
  },
  {
   "cell_type": "code",
   "execution_count": 25,
   "metadata": {},
   "outputs": [],
   "source": [
    "# 매개변수가 존재하는 함수를 생성\n",
    "def func_2(a, b):\n",
    "    result = a + b\n",
    "    return result"
   ]
  },
  {
   "cell_type": "code",
   "execution_count": 27,
   "metadata": {},
   "outputs": [
    {
     "name": "stdout",
     "output_type": "stream",
     "text": [
      "9\n",
      "3\n"
     ]
    }
   ],
   "source": [
    "# 매개변수가 2개인 함수를 호출 -> 해당하는 함수를 호출할 때는 인자의 개수가 2개\n",
    "print(func_2(4, 5)) # 9\n",
    "print(func_2(1, 2)) # 3"
   ]
  },
  {
   "cell_type": "code",
   "execution_count": 28,
   "metadata": {},
   "outputs": [
    {
     "ename": "TypeError",
     "evalue": "func_2() missing 1 required positional argument: 'b'",
     "output_type": "error",
     "traceback": [
      "\u001b[1;31m---------------------------------------------------------------------------\u001b[0m",
      "\u001b[1;31mTypeError\u001b[0m                                 Traceback (most recent call last)",
      "\u001b[1;32md:\\240120\\240120\\01_function.ipynb 셀 26\u001b[0m line \u001b[0;36m3\n\u001b[0;32m      <a href='vscode-notebook-cell:/d%3A/240120/240120/01_function.ipynb#X34sZmlsZQ%3D%3D?line=0'>1</a>\u001b[0m \u001b[39m# error code\u001b[39;00m\n\u001b[0;32m      <a href='vscode-notebook-cell:/d%3A/240120/240120/01_function.ipynb#X34sZmlsZQ%3D%3D?line=1'>2</a>\u001b[0m \u001b[39m# 매개변수의 개수와 인자의 개수를 다르게 호출하는 경우\u001b[39;00m\n\u001b[1;32m----> <a href='vscode-notebook-cell:/d%3A/240120/240120/01_function.ipynb#X34sZmlsZQ%3D%3D?line=2'>3</a>\u001b[0m \u001b[39mprint\u001b[39m(func_2(\u001b[39m5\u001b[39;49m))\n",
      "\u001b[1;31mTypeError\u001b[0m: func_2() missing 1 required positional argument: 'b'"
     ]
    }
   ],
   "source": [
    "# error code\n",
    "# 매개변수의 개수와 인자의 개수를 다르게 호출하는 경우\n",
    "print(func_2(5))"
   ]
  },
  {
   "cell_type": "code",
   "execution_count": 30,
   "metadata": {},
   "outputs": [],
   "source": [
    "# 함수를 생성할 때 매개변수에 기본값을 지정\n",
    "def func_3(a, b = 2):\n",
    "    result = a ** b\n",
    "    return result"
   ]
  },
  {
   "cell_type": "code",
   "execution_count": 31,
   "metadata": {},
   "outputs": [
    {
     "name": "stdout",
     "output_type": "stream",
     "text": [
      "125\n",
      "64\n"
     ]
    }
   ],
   "source": [
    "print(func_3(5, 3))    # 125   # 기본값 대신 3을 넣어보는 것. \n",
    "print(func_3(8))   # 64   # b 값을 안 넣으면 그냥 기본값으로 지정됨"
   ]
  },
  {
   "cell_type": "code",
   "execution_count": 32,
   "metadata": {},
   "outputs": [],
   "source": [
    "def func_4(input_x, input_y):\n",
    "    result = input_x - input_y\n",
    "    return result"
   ]
  },
  {
   "cell_type": "code",
   "execution_count": 33,
   "metadata": {},
   "outputs": [
    {
     "name": "stdout",
     "output_type": "stream",
     "text": [
      "7\n",
      "-7\n"
     ]
    }
   ],
   "source": [
    "print(func_4(10, 3))  # 7\n",
    "print(func_4(input_y = 10, input_x = 3))   # -7"
   ]
  },
  {
   "cell_type": "code",
   "execution_count": 42,
   "metadata": {},
   "outputs": [],
   "source": [
    "# 함수 생성\n",
    "# 매개변수는 2개 -> start, end\n",
    "# start부터 시작해서 end까지의 누적합을 출력\n",
    "# start는 기본값은 1, end의 기본값은 10\n",
    "def func_5(start = 1, end = 10):\n",
    "    # 합계라는 초기값은 0으로 지정\n",
    "    result = 0\n",
    "\n",
    "    # start부터 end까지 반복하는 반복문을 생성\n",
    "    for i in range(start, end + 1, 1):\n",
    "        # result = result + i\n",
    "        result += i\n",
    "        # for문 종료 후\n",
    "        return result\n",
    "\n",
    "        # 마지막 return 줄이 for 라인 안으로 들어가버리면? 잘못 만들어진 구문이 됨.\n",
    "        # 결과는 1이 될 것.\n",
    "        # return = 되돌려준다/함수를 종료한다. for 함수 안에 넣어버리면 그냥 종료해버림."
   ]
  },
  {
   "cell_type": "code",
   "execution_count": 43,
   "metadata": {},
   "outputs": [
    {
     "name": "stdout",
     "output_type": "stream",
     "text": [
      "1\n"
     ]
    }
   ],
   "source": [
    "print(func_5())\n",
    "# start = 1, end = 10, result = 0\n",
    "# for i in range(1, 11, 1):\n",
    "#   result = result + i   --> result = 0 + 1\n",
    "#   return result  --> result를 되돌려주고 함수를 종료"
   ]
  },
  {
   "cell_type": "code",
   "execution_count": 67,
   "metadata": {},
   "outputs": [],
   "source": [
    "def func_6(start = 1, end = 10):\n",
    "    # 합계라는 초기값은 0으로 지정\n",
    "    result = 0\n",
    "\n",
    "    # start부터 end까지 반복하는 반복문을 생성\n",
    "    for i in range(start, end + 1, 1):\n",
    "        # result = result + i\n",
    "        result += i\n",
    "    # for문 종료 후\n",
    "    print(result)   #이 두 가지를 넣었기 때문에\n",
    "    return result   #결과값이 2번 반복해서 나오는 것..."
   ]
  },
  {
   "cell_type": "code",
   "execution_count": 68,
   "metadata": {},
   "outputs": [
    {
     "name": "stdout",
     "output_type": "stream",
     "text": [
      "55\n",
      "55\n"
     ]
    }
   ],
   "source": [
    "print(func_6())\n",
    "# start = 1, end = 10, result = 0\n",
    "# for i in range(1, 11, 1):\n",
    "#    result = result + i ->> result = 0 + 1\n",
    "#    result = result + i ->> result = 1 + 2\n",
    "#    .....\n",
    "#    result = result + i ->> result = 36 + 9\n",
    "#    result = result + i ->> result = 45 + 10\n",
    "#  return result"
   ]
  },
  {
   "cell_type": "code",
   "execution_count": 69,
   "metadata": {},
   "outputs": [
    {
     "name": "stdout",
     "output_type": "stream",
     "text": [
      "5050\n",
      "5050\n"
     ]
    }
   ],
   "source": [
    "print(func_6(end=100))"
   ]
  },
  {
   "cell_type": "code",
   "execution_count": 70,
   "metadata": {},
   "outputs": [
    {
     "name": "stdout",
     "output_type": "stream",
     "text": [
      "77\n",
      "3003\n"
     ]
    }
   ],
   "source": [
    "# 1부터 100까지의 누적합 도중 합계가 3000이 넘어가는 최초의 숫자는 몇일까?\n",
    "\n",
    "# 합계 초기값을 지정 0\n",
    "sum_result = 0\n",
    "\n",
    "for i in range(1, 101, 1):\n",
    "    sum_result += i\n",
    "    # 합계가 3000보다 큰 경우\n",
    "    if sum_result > 3000:\n",
    "        break\n",
    "print(i)\n",
    "print(sum_result)"
   ]
  },
  {
   "cell_type": "code",
   "execution_count": 75,
   "metadata": {},
   "outputs": [
    {
     "name": "stdout",
     "output_type": "stream",
     "text": [
      "173\n",
      "15051\n"
     ]
    }
   ],
   "source": [
    "# 1부터 1씩 증가시켜서 누적합이 15000이 되는 순간의 숫자가 몇인가?\n",
    "sum_result = 0\n",
    "\n",
    "for i in range(1, 500, 1):\n",
    "    sum_result += i\n",
    "    if sum_result > 15000 :\n",
    "        break\n",
    "  \n",
    "print(i)\n",
    "print(sum_result)"
   ]
  },
  {
   "cell_type": "code",
   "execution_count": 76,
   "metadata": {},
   "outputs": [
    {
     "name": "stdout",
     "output_type": "stream",
     "text": [
      "548\n",
      "150426\n"
     ]
    }
   ],
   "source": [
    "i = 1\n",
    "sum_result = 0\n",
    "\n",
    "while True:\n",
    "    sum_result += i\n",
    "    if sum_result > 150000:\n",
    "        break\n",
    "    i += 1\n",
    "print(i)\n",
    "print(sum_result)\n",
    "\n",
    "#가변인 경우에는 while 구문을 쓰는 것이 더 좋다. 라고들 한다."
   ]
  },
  {
   "cell_type": "code",
   "execution_count": 77,
   "metadata": {},
   "outputs": [],
   "source": [
    "# 함수 생성\n",
    "# 매개변수 2개 생성\n",
    "# 매개변수 사이의 값들의 누적합을 출력하는 함수\n",
    "def func_7(x, y):\n",
    "    # 합계 초기값은 0으로 지정\n",
    "    result = 0\n",
    "    # x보다 y가 큰 경우 (ex. x가 1이고 y가 10 -> 1부터 10까지의 누적합)\n",
    "    if x < y:\n",
    "        for i in range (x, y+1, 1):\n",
    "            result += i\n",
    "    # x보다 y가 작거나 같은 경우\n",
    "    else:\n",
    "        for i in range(y, x+1, 1):\n",
    "            result += i\n",
    "    return result"
   ]
  },
  {
   "cell_type": "code",
   "execution_count": 78,
   "metadata": {},
   "outputs": [
    {
     "name": "stdout",
     "output_type": "stream",
     "text": [
      "55\n"
     ]
    }
   ],
   "source": [
    "print(func_7(1, 10))"
   ]
  },
  {
   "cell_type": "code",
   "execution_count": 79,
   "metadata": {},
   "outputs": [
    {
     "name": "stdout",
     "output_type": "stream",
     "text": [
      "55\n"
     ]
    }
   ],
   "source": [
    "print(func_7(10, 1))"
   ]
  },
  {
   "cell_type": "code",
   "execution_count": 81,
   "metadata": {},
   "outputs": [
    {
     "name": "stdout",
     "output_type": "stream",
     "text": [
      "5\n"
     ]
    }
   ],
   "source": [
    "print(func_7(5, 5))"
   ]
  },
  {
   "cell_type": "code",
   "execution_count": 84,
   "metadata": {},
   "outputs": [],
   "source": [
    "def func_8(x, y):\n",
    "    result = 0\n",
    "\n",
    "    # 시작값이 x와 y 중 작은 값\n",
    "    # 종료값은 x와 y 중 큰 값에 + 1\n",
    "    # 숫자 데이터들 중 가장 작은 데이터를 출력하는 함수 : min()\n",
    "    # 숫자 데이터들 중 가장 큰 데이터를 출력하는 함수 : max()\n",
    "    for i in range(min(x,y), max(x,y)+1, 1):\n",
    "        result += i\n",
    "    return result"
   ]
  },
  {
   "cell_type": "code",
   "execution_count": 87,
   "metadata": {},
   "outputs": [
    {
     "name": "stdout",
     "output_type": "stream",
     "text": [
      "55\n",
      "55\n",
      "5\n"
     ]
    }
   ],
   "source": [
    "print(func_8(1, 10))\n",
    "print(func_8(10, 1))\n",
    "print(func_8(5, 5))"
   ]
  },
  {
   "cell_type": "code",
   "execution_count": 88,
   "metadata": {},
   "outputs": [
    {
     "data": {
      "text/plain": [
       "1"
      ]
     },
     "execution_count": 88,
     "metadata": {},
     "output_type": "execute_result"
    }
   ],
   "source": [
    "min(3, 10, 1)\n",
    "\n",
    "# 개수가 가변적\n",
    "\n"
   ]
  },
  {
   "cell_type": "markdown",
   "metadata": {},
   "source": [
    "### 인자의 개수가 가변일 때 앞에 *을 붙인다."
   ]
  },
  {
   "cell_type": "code",
   "execution_count": 97,
   "metadata": {},
   "outputs": [],
   "source": [
    "# 인자의 개수가 가변인 경우의 함수를 생성\n",
    "def func_9(*args):\n",
    "    # print(type(args))\n",
    "    # print(args)\n",
    "    # print(len(args))\n",
    "    \n",
    "    # 해당하는 인자의 값이 가변적인 건 확인했는데,\n",
    "    # 그중 가장 작은 값을 되돌려 받으려면?\n",
    "    \n",
    "    # 인자값들 중 첫 번째 데이터를 변수에 대입\n",
    "    result = args [0]\n",
    "\n",
    "    # 인자값들 중 두 번째 데이터부터 반복하는 반복문 생성\n",
    "    for i in range(1, len(args), 1):\n",
    "        # result와 args[i] 항목을 비교\n",
    "        if result > args[i]:\n",
    "            result = args[i]\n",
    "\n",
    "    return result\n",
    "\n",
    "# args = (50,49,55,42)\n",
    "# result = 50\n",
    "# for문에서 3번 반복 (시작값 1, 종료값 4, 증가값 1)\n",
    "# result > args[1] ( 50 > 49 )  ---> True\n",
    "#   result = args[1] ( result = 49 )\n",
    "# result > args[2] (49, 55) ----> false\n",
    "#   result = 49 그대로. 아무 행동도 하지 않는다.\n",
    "# result > args[3] ( 49 > 42 ) ----> True\n",
    "#   result = args[3] ( result = 42 )\n",
    "# for문이 종료\n",
    "# return result (result 42)"
   ]
  },
  {
   "cell_type": "code",
   "execution_count": 98,
   "metadata": {},
   "outputs": [
    {
     "data": {
      "text/plain": [
       "1"
      ]
     },
     "execution_count": 98,
     "metadata": {},
     "output_type": "execute_result"
    }
   ],
   "source": [
    "func_9(1, 2, 3, 4, 5)\n",
    "func_9(2,4,6,8)\n",
    "func_9(1,2,3,4,5,6,7,8,9,10)"
   ]
  },
  {
   "cell_type": "code",
   "execution_count": 99,
   "metadata": {},
   "outputs": [],
   "source": [
    "# 해당하는 매개 변수는 tuple이다. 라는 의미.\n",
    "# 하나씩 따로 출력 가능, 수정은 불가, 추출은 무관.\n",
    "\n",
    "#반복되는 횟수를 뽑으려면 len을 써서 원소의 개수를 계산하면 됨.\n",
    "\n",
    "# 시작값은 0, "
   ]
  },
  {
   "cell_type": "code",
   "execution_count": 100,
   "metadata": {},
   "outputs": [
    {
     "name": "stdout",
     "output_type": "stream",
     "text": [
      "42\n"
     ]
    }
   ],
   "source": [
    "print(func_9(50,49,55,42))"
   ]
  },
  {
   "cell_type": "markdown",
   "metadata": {},
   "source": [
    "### 예제문제\n",
    "1. 함수를 생성 -> 인자의 개수를 가변으로 두고 --> 매개변수에 *표시\n",
    "2. 인자값의 평균값을 출력하는 함수\n",
    "    1. 모든 인자값들을 더한다.\n",
    "    2. 더한 데이터를 인자 개수만큼 나눈다.\n",
    "    3. 나온 결과값을 되돌려준다."
   ]
  },
  {
   "cell_type": "code",
   "execution_count": 108,
   "metadata": {},
   "outputs": [],
   "source": [
    "# def func_10(*args):\n",
    "#     result = sum_result(args)\n",
    "\n",
    "#     result = sum(args) / len(args)\n",
    "#     return result\n",
    "      \n"
   ]
  },
  {
   "cell_type": "code",
   "execution_count": 109,
   "metadata": {},
   "outputs": [
    {
     "ename": "SyntaxError",
     "evalue": "Missing parentheses in call to 'print'. Did you mean print(...)? (1013868167.py, line 1)",
     "output_type": "error",
     "traceback": [
      "\u001b[1;36m  Cell \u001b[1;32mIn[109], line 1\u001b[1;36m\u001b[0m\n\u001b[1;33m    print func_10(1,3,5,7,9)\u001b[0m\n\u001b[1;37m    ^\u001b[0m\n\u001b[1;31mSyntaxError\u001b[0m\u001b[1;31m:\u001b[0m Missing parentheses in call to 'print'. Did you mean print(...)?\n"
     ]
    }
   ],
   "source": [
    "# print func_10(1,3,5,7,9)"
   ]
  },
  {
   "cell_type": "code",
   "execution_count": 110,
   "metadata": {},
   "outputs": [],
   "source": [
    "def func_10(*a):\n",
    "    # 모든 인자값을 더한다. (합계라는 초기값 0)\n",
    "    result = 0\n",
    "    \n",
    "    # case 1\n",
    "    # for i in range(0, len(a), 1):\n",
    "    #     # i가 의미하는 것은? -> 자료형 데이터의 위치\n",
    "    #     result = result + a[i]\n",
    "    \n",
    "    # case 2\n",
    "    for i in a:\n",
    "        # i가 의미하는 것은? -> 자료형 데이터의 각 원소의 값\n",
    "        result += i\n",
    "    \n",
    "    # case 3\n",
    "    # result = sum(a)\n",
    "    \n",
    "    # 합계에 인자의 개수만큼으로 나눠준다\n",
    "    # result = result / len(a)\n",
    "    result /= len(a)\n",
    "    \n",
    "    # 결과값을 되돌려준다.\n",
    "    return result"
   ]
  },
  {
   "cell_type": "code",
   "execution_count": 111,
   "metadata": {},
   "outputs": [
    {
     "name": "stdout",
     "output_type": "stream",
     "text": [
      "5.571428571428571\n"
     ]
    }
   ],
   "source": [
    "print(func_10(1,3,5,6,7,8,9))"
   ]
  },
  {
   "cell_type": "code",
   "execution_count": 112,
   "metadata": {},
   "outputs": [
    {
     "name": "stdout",
     "output_type": "stream",
     "text": [
      "50.0\n"
     ]
    }
   ],
   "source": [
    "print(func_10(20, 100, 30))"
   ]
  },
  {
   "cell_type": "code",
   "execution_count": 115,
   "metadata": {},
   "outputs": [],
   "source": [
    "def func_try3(*a):\n",
    "    result = 0\n",
    "\n",
    "    result = sum(a)\n",
    "    result /= len(a)\n",
    "\n",
    "    return result"
   ]
  },
  {
   "cell_type": "code",
   "execution_count": 116,
   "metadata": {},
   "outputs": [
    {
     "name": "stdout",
     "output_type": "stream",
     "text": [
      "50.0\n"
     ]
    }
   ],
   "source": [
    "print(func_try3(20, 100, 30))"
   ]
  },
  {
   "cell_type": "code",
   "execution_count": 123,
   "metadata": {},
   "outputs": [],
   "source": [
    "def func_try1(*a):\n",
    "    result = 0\n",
    "\n",
    "    for i in range (0, len(a), 1):\n",
    "        result = result + a[i]\n",
    "\n",
    "    result /= len(a)\n",
    "    return result"
   ]
  },
  {
   "cell_type": "code",
   "execution_count": 124,
   "metadata": {},
   "outputs": [
    {
     "name": "stdout",
     "output_type": "stream",
     "text": [
      "50.0\n"
     ]
    }
   ],
   "source": [
    "print(func_try1(20, 100, 30))"
   ]
  },
  {
   "cell_type": "code",
   "execution_count": 125,
   "metadata": {},
   "outputs": [],
   "source": [
    "def func_try2(*a):\n",
    "    result = 0\n",
    "\n",
    "    for i in a:\n",
    "        result += i\n",
    "\n",
    "    result /= len(a)\n",
    "    return result"
   ]
  },
  {
   "cell_type": "code",
   "execution_count": 126,
   "metadata": {},
   "outputs": [
    {
     "name": "stdout",
     "output_type": "stream",
     "text": [
      "50.0\n"
     ]
    }
   ],
   "source": [
    "print(func_try2(20, 100, 30))"
   ]
  },
  {
   "cell_type": "code",
   "execution_count": 127,
   "metadata": {},
   "outputs": [],
   "source": [
    "_list = (22,11,33,88)"
   ]
  },
  {
   "cell_type": "code",
   "execution_count": 128,
   "metadata": {},
   "outputs": [
    {
     "name": "stdout",
     "output_type": "stream",
     "text": [
      "0\n",
      "1\n",
      "2\n",
      "3\n"
     ]
    }
   ],
   "source": [
    "for i in range(len(_list)): # i 가 의미하는 것은 0부터 3까지 각 위치라는 인덱스 값\n",
    "    print(i)"
   ]
  },
  {
   "cell_type": "code",
   "execution_count": 129,
   "metadata": {},
   "outputs": [
    {
     "name": "stdout",
     "output_type": "stream",
     "text": [
      "22\n",
      "11\n",
      "33\n",
      "88\n"
     ]
    }
   ],
   "source": [
    "for i in range(len(_list)):\n",
    "    print(_list[i])"
   ]
  },
  {
   "cell_type": "code",
   "execution_count": 130,
   "metadata": {},
   "outputs": [
    {
     "name": "stdout",
     "output_type": "stream",
     "text": [
      "22\n",
      "11\n",
      "33\n",
      "88\n"
     ]
    }
   ],
   "source": [
    "for i in _list:\n",
    "    print(i)"
   ]
  },
  {
   "cell_type": "code",
   "execution_count": 131,
   "metadata": {},
   "outputs": [
    {
     "data": {
      "text/plain": [
       "False"
      ]
     },
     "execution_count": 131,
     "metadata": {},
     "output_type": "execute_result"
    }
   ],
   "source": [
    "# in 연산자 : 비교 연산자. 결과값은 무조건 True or False 논리값이 나온다. (포함 유무)\n",
    "10 in [11, 50, 70]"
   ]
  },
  {
   "cell_type": "code",
   "execution_count": 132,
   "metadata": {},
   "outputs": [
    {
     "data": {
      "text/plain": [
       "True"
      ]
     },
     "execution_count": 132,
     "metadata": {},
     "output_type": "execute_result"
    }
   ],
   "source": [
    "11 in [11, 50, 70]"
   ]
  },
  {
   "cell_type": "code",
   "execution_count": 133,
   "metadata": {},
   "outputs": [
    {
     "data": {
      "text/plain": [
       "True"
      ]
     },
     "execution_count": 133,
     "metadata": {},
     "output_type": "execute_result"
    }
   ],
   "source": [
    "_list = [11, 50, 70]\n",
    "(11 == _list[0]) or (11 == _list[1]) or (11 == _list[2])"
   ]
  },
  {
   "cell_type": "code",
   "execution_count": 138,
   "metadata": {},
   "outputs": [],
   "source": [
    "# 인자의 개수가 가변이 아닌 형태의 함수를 생성\n",
    "# 매개변수에 자료형 데이터를 인자값으로 입력하는 경우\n",
    "\n",
    "# 자료형 데이터를 입력받아, 각 원소들의 제곱된 값을 새로운 리스트로 생성하여 되돌려 준다.\n",
    "def func_11(x):\n",
    "    # x는 자료형 데이터가 들어온다.\n",
    "\n",
    "    # 결과값은 새로운 리스트를 생성하여 값들을 추가\n",
    "    result = []\n",
    "\n",
    "    # x의 원소들을 하나씩 추출하여 제곱한 뒤 result에 추가\n",
    "    i = 0\n",
    "    while i < len(x):\n",
    "        data = x[i] ** 2\n",
    "        result.append(data)        # 여기까지 하고 함수를 호출하는 순간, 큰일이 난다.\n",
    "                                   # i를 1씩 더해줘야 한다, 그렇지 않으면 무한 루프..\n",
    "        i += 1                     #이걸 빼먹는 일이 가장 흔한 실수\n",
    "\n",
    "    return result"
   ]
  },
  {
   "cell_type": "code",
   "execution_count": 139,
   "metadata": {},
   "outputs": [
    {
     "name": "stdout",
     "output_type": "stream",
     "text": [
      "[1, 4, 9, 16]\n"
     ]
    }
   ],
   "source": [
    "print(func_11([1,2,3,4]))"
   ]
  },
  {
   "cell_type": "code",
   "execution_count": 142,
   "metadata": {},
   "outputs": [],
   "source": [
    "# map함수\n",
    "# map({호출할 함수명}, {자료형 데이터})\n",
    "\n",
    "# 일반 함수를 생성\n",
    "def change(x):\n",
    "    print(type(x))\n",
    "    result = x ** 2\n",
    "    return result"
   ]
  },
  {
   "cell_type": "code",
   "execution_count": 143,
   "metadata": {},
   "outputs": [
    {
     "data": {
      "text/plain": [
       "<map at 0x2c4cf67cbe0>"
      ]
     },
     "execution_count": 143,
     "metadata": {},
     "output_type": "execute_result"
    }
   ],
   "source": [
    "map(\n",
    "    change, [1,2,3,4]  #change에 입력 데이터를 따로 넣어줄 필요는 없음. map 함수이므로.\n",
    "                        #여기까지 입력하면 나오는.. <map at 0x2c4cf67cbe0> 이것은 메모리 좌표/주소임\n",
    "                        # 맵 데이터를 리스트 형태로 묶어줘야 함.\n",
    "                        \n",
    ")"
   ]
  },
  {
   "cell_type": "code",
   "execution_count": 144,
   "metadata": {},
   "outputs": [
    {
     "name": "stdout",
     "output_type": "stream",
     "text": [
      "<class 'int'>\n",
      "<class 'int'>\n",
      "<class 'int'>\n",
      "<class 'int'>\n"
     ]
    },
    {
     "data": {
      "text/plain": [
       "[1, 4, 9, 16]"
      ]
     },
     "execution_count": 144,
     "metadata": {},
     "output_type": "execute_result"
    }
   ],
   "source": [
    "list(map(\n",
    "   change, [1,2,3,4] \n",
    "))"
   ]
  },
  {
   "cell_type": "code",
   "execution_count": 145,
   "metadata": {},
   "outputs": [
    {
     "data": {
      "text/plain": [
       "[1, 4, 9, 16]"
      ]
     },
     "execution_count": 145,
     "metadata": {},
     "output_type": "execute_result"
    }
   ],
   "source": [
    "# lambda 함수 : 함수를 생성함과 동시에 호출\n",
    "# lambda 매개변수명 : 실행될 코드\n",
    "list(\n",
    "    map(\n",
    "        lambda x : x ** 2,\n",
    "        [1,2,3,4]\n",
    "    )\n",
    ")"
   ]
  },
  {
   "cell_type": "code",
   "execution_count": 146,
   "metadata": {},
   "outputs": [],
   "source": [
    "def change2(a):\n",
    "    result = a ** 2\n",
    "    return result"
   ]
  },
  {
   "cell_type": "code",
   "execution_count": 147,
   "metadata": {},
   "outputs": [
    {
     "name": "stdout",
     "output_type": "stream",
     "text": [
      "1\n",
      "2\n",
      "3\n",
      "4\n"
     ]
    }
   ],
   "source": [
    "_list = [1,2,3,4]\n",
    "\n",
    "for i in _list:\n",
    "    print(i)\n"
   ]
  },
  {
   "cell_type": "code",
   "execution_count": 150,
   "metadata": {},
   "outputs": [
    {
     "name": "stdout",
     "output_type": "stream",
     "text": [
      "[1, 4, 9, 16]\n"
     ]
    }
   ],
   "source": [
    "_list = [1,2,3,4]\n",
    "\n",
    "res = []\n",
    "\n",
    "for i in _list:\n",
    "    # print(i)\n",
    "    res.append(change2(i))\n",
    "print(res)\n"
   ]
  },
  {
   "cell_type": "code",
   "execution_count": 155,
   "metadata": {},
   "outputs": [
    {
     "name": "stdout",
     "output_type": "stream",
     "text": [
      "index :  0\n",
      "value :  test\n",
      "index :  1\n",
      "value :  test2\n",
      "index :  2\n",
      "value :  test3\n",
      "index :  3\n",
      "value :  test4\n"
     ]
    }
   ],
   "source": [
    "_list = [\"test\",\"test2\",\"test3\",\"test4\"]\n",
    "\n",
    "res = []\n",
    "\n",
    "for i in range(0, len(_list), 1):\n",
    "    print(\"index : \", i)\n",
    "    print(\"value : \", _list[i])"
   ]
  },
  {
   "cell_type": "code",
   "execution_count": 3,
   "metadata": {},
   "outputs": [
    {
     "ename": "NameError",
     "evalue": "name 'change2' is not defined",
     "output_type": "error",
     "traceback": [
      "\u001b[1;31m---------------------------------------------------------------------------\u001b[0m",
      "\u001b[1;31mNameError\u001b[0m                                 Traceback (most recent call last)",
      "Cell \u001b[1;32mIn[3], line 6\u001b[0m\n\u001b[0;32m      3\u001b[0m res \u001b[38;5;241m=\u001b[39m []\n\u001b[0;32m      5\u001b[0m \u001b[38;5;28;01mfor\u001b[39;00m i \u001b[38;5;129;01min\u001b[39;00m \u001b[38;5;28mrange\u001b[39m(\u001b[38;5;241m0\u001b[39m, \u001b[38;5;28mlen\u001b[39m(_list), \u001b[38;5;241m1\u001b[39m):\n\u001b[1;32m----> 6\u001b[0m     data \u001b[38;5;241m=\u001b[39m \u001b[43mchange2\u001b[49m(_list[i])\n\u001b[0;32m      7\u001b[0m     res\u001b[38;5;241m.\u001b[39mappend(data)\n\u001b[0;32m      9\u001b[0m \u001b[38;5;28mprint\u001b[39m(res)\n",
      "\u001b[1;31mNameError\u001b[0m: name 'change2' is not defined"
     ]
    }
   ],
   "source": [
    "_list = [1,2,3,4]\n",
    "\n",
    "res = []\n",
    "\n",
    "for i in range(0, len(_list), 1):\n",
    "    data = change2(_list[i])\n",
    "    res.append(data)\n",
    "\n",
    "print(res)"
   ]
  },
  {
   "cell_type": "markdown",
   "metadata": {},
   "source": [
    "### 변수의 종류\n",
    "1. 전역 변수 (all area)\n",
    "    - 어디서든 사용이 가능한 변수\n",
    "    - 함수의 내부에서나 외부에서 어디서든 사용이 가능\n",
    "\n",
    "2. 지역 변수 (certain area) *메모리 효율적 사용을 위해 휘발성 데이터 관리 용이해야 함\n",
    "    - 해당하는 지역에서만 사용이 가능한 변수\n",
    "    - 함수 내부, 클래스 내부에서 생성한 변수들을 지역 변수\n",
    "    - 해당하는 지역에서 벗어나면 사용이 불가능한 휘발성 변수\n",
    "    \n",
    "3. 매개 변수\n",
    "    - 함수를 생성할 때 함수 내부에서 사용하는 변수의 이름\n",
    "    - 해당하는 함수에서만 사용이 가능\n",
    "    - 함수 외부에서는 사용이 불가능"
   ]
  },
  {
   "cell_type": "code",
   "execution_count": 4,
   "metadata": {},
   "outputs": [],
   "source": [
    "# 전역 변수를 생성\n",
    "\n",
    "test_a = \"Hello\"\n"
   ]
  },
  {
   "cell_type": "code",
   "execution_count": 5,
   "metadata": {},
   "outputs": [
    {
     "name": "stdout",
     "output_type": "stream",
     "text": [
      "Hello\n"
     ]
    }
   ],
   "source": [
    "print(test_a)"
   ]
  },
  {
   "cell_type": "code",
   "execution_count": 6,
   "metadata": {},
   "outputs": [],
   "source": [
    "#지역 변수 생성\n",
    "def func_12():\n",
    "    func_12_result = \"World\"\n",
    "    return test_a + func_12_result"
   ]
  },
  {
   "cell_type": "code",
   "execution_count": 8,
   "metadata": {},
   "outputs": [],
   "source": [
    "#새로운 전역 변수를 생성\n",
    "test_b = func_12()"
   ]
  },
  {
   "cell_type": "code",
   "execution_count": 10,
   "metadata": {},
   "outputs": [
    {
     "name": "stdout",
     "output_type": "stream",
     "text": [
      "Hello\n",
      "HelloWorld\n"
     ]
    },
    {
     "ename": "NameError",
     "evalue": "name 'func_12_result' is not defined",
     "output_type": "error",
     "traceback": [
      "\u001b[1;31m---------------------------------------------------------------------------\u001b[0m",
      "\u001b[1;31mNameError\u001b[0m                                 Traceback (most recent call last)",
      "Cell \u001b[1;32mIn[10], line 3\u001b[0m\n\u001b[0;32m      1\u001b[0m \u001b[38;5;28mprint\u001b[39m(test_a)\n\u001b[0;32m      2\u001b[0m \u001b[38;5;28mprint\u001b[39m(test_b)\n\u001b[1;32m----> 3\u001b[0m \u001b[38;5;28mprint\u001b[39m(\u001b[43mfunc_12_result\u001b[49m)\n",
      "\u001b[1;31mNameError\u001b[0m: name 'func_12_result' is not defined"
     ]
    }
   ],
   "source": [
    "print(test_a)\n",
    "print(test_b)\n",
    "print(func_12_result)   # 코드에서 빨간 줄이 간다는 의미는, 뭔가 문제가 발생했다는 의미.\n",
    "                        # 해당 변수가 함수 안에서만 사용 가능한 지역 변수였기 때문에 not defined로 나타남."
   ]
  },
  {
   "cell_type": "code",
   "execution_count": 13,
   "metadata": {},
   "outputs": [],
   "source": [
    "# def func_13(input_a, input_b):\n",
    "#     print(func_12_result)       # return의 쓸모.\n",
    "#     return result               # print는 반드시 return 앞에 써야 함\n",
    "#                                 # 특수한 경우 함수 내에서 전역 변수 쓰기도 함."
   ]
  },
  {
   "cell_type": "code",
   "execution_count": 15,
   "metadata": {},
   "outputs": [],
   "source": [
    "def func_13(input_a, input_b):\n",
    "    result = input_a + input_b\n",
    "    return result"
   ]
  },
  {
   "cell_type": "code",
   "execution_count": 16,
   "metadata": {},
   "outputs": [
    {
     "name": "stdout",
     "output_type": "stream",
     "text": [
      "15\n"
     ]
    }
   ],
   "source": [
    "test_c = func_13(10, 5)\n",
    "print(test_c)"
   ]
  },
  {
   "cell_type": "code",
   "execution_count": 17,
   "metadata": {},
   "outputs": [
    {
     "ename": "NameError",
     "evalue": "name 'input_a' is not defined",
     "output_type": "error",
     "traceback": [
      "\u001b[1;31m---------------------------------------------------------------------------\u001b[0m",
      "\u001b[1;31mNameError\u001b[0m                                 Traceback (most recent call last)",
      "Cell \u001b[1;32mIn[17], line 1\u001b[0m\n\u001b[1;32m----> 1\u001b[0m \u001b[38;5;28mprint\u001b[39m(\u001b[43minput_a\u001b[49m)\n\u001b[0;32m      2\u001b[0m \u001b[38;5;28mprint\u001b[39m(input_b)\n",
      "\u001b[1;31mNameError\u001b[0m: name 'input_a' is not defined"
     ]
    }
   ],
   "source": [
    "print(input_a)          #매개변수는 외부에서 사용이 불가능\n",
    "print(input_b)          #마찬가지로 함수 내 정의한 지역변수(매개변수도 지역변수에 해당)이므로 나오지 않음."
   ]
  },
  {
   "cell_type": "code",
   "execution_count": null,
   "metadata": {},
   "outputs": [],
   "source": []
  }
 ],
 "metadata": {
  "kernelspec": {
   "display_name": "Python 3",
   "language": "python",
   "name": "python3"
  },
  "language_info": {
   "codemirror_mode": {
    "name": "ipython",
    "version": 3
   },
   "file_extension": ".py",
   "mimetype": "text/x-python",
   "name": "python",
   "nbconvert_exporter": "python",
   "pygments_lexer": "ipython3",
   "version": "3.12.1"
  }
 },
 "nbformat": 4,
 "nbformat_minor": 2
}
