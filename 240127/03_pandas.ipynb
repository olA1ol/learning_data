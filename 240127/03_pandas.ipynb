{
 "cells": [
  {
   "cell_type": "code",
   "execution_count": 1,
   "metadata": {},
   "outputs": [
    {
     "name": "stderr",
     "output_type": "stream",
     "text": [
      "C:\\Users\\EZEN\\AppData\\Local\\Temp\\ipykernel_48820\\4202687922.py:2: DeprecationWarning: \n",
      "Pyarrow will become a required dependency of pandas in the next major release of pandas (pandas 3.0),\n",
      "(to allow more performant data types, such as the Arrow string type, and better interoperability with other libraries)\n",
      "but was not found to be installed on your system.\n",
      "If this would cause problems for you,\n",
      "please provide us feedback at https://github.com/pandas-dev/pandas/issues/54466\n",
      "        \n",
      "  import pandas as pd\n"
     ]
    }
   ],
   "source": [
    "# 라이브러리 로드\n",
    "import pandas as pd"
   ]
  },
  {
   "cell_type": "code",
   "execution_count": 4,
   "metadata": {},
   "outputs": [],
   "source": [
    "# 1차원 데이터 : 스리즈 생성\n",
    "# 데이터는 1차원 배열\n",
    "# 인덱스는 기본값\n",
    "value = [100,200,300,400]\n",
    "\n",
    "pd_series1 = pd.Series(value) #class여서 대문자 S로 시작. 안에 내장된 함수가 있겠구나 ㅡ 바로 파악 가능.\n",
    "\n",
    "#판다스에서는 print를 쓰지 않을 계획."
   ]
  },
  {
   "cell_type": "code",
   "execution_count": 5,
   "metadata": {},
   "outputs": [
    {
     "data": {
      "text/plain": [
       "0    100\n",
       "1    200\n",
       "2    300\n",
       "3    400\n",
       "dtype: int64"
      ]
     },
     "execution_count": 5,
     "metadata": {},
     "output_type": "execute_result"
    }
   ],
   "source": [
    "pd_series1 #변수명만 적어도 주피터 환경에서는 print 안 써도 다 보여줌. 안 쓸 때가 좀 더 보기가 좋음."
   ]
  },
  {
   "cell_type": "code",
   "execution_count": 6,
   "metadata": {},
   "outputs": [
    {
     "name": "stdout",
     "output_type": "stream",
     "text": [
      "0    100\n",
      "1    200\n",
      "2    300\n",
      "3    400\n",
      "dtype: int64\n"
     ]
    }
   ],
   "source": [
    "print(pd_series1) #dtype의 의미는 데이터 유형은 숫자이며 64비트까지 지원해준다.라는 것."
   ]
  },
  {
   "cell_type": "code",
   "execution_count": 7,
   "metadata": {},
   "outputs": [
    {
     "name": "stdout",
     "output_type": "stream",
     "text": [
      "아메리카노    5000\n",
      "카페라떼     6000\n",
      "카페모카     6500\n",
      "카푸치노     6500\n",
      "dtype: int64\n"
     ]
    }
   ],
   "source": [
    "# index의 값을 지정하여 Series 생성\n",
    "value = [5000,6000,6500,6500]\n",
    "ser_index = ['아메리카노', '카페라떼', '카페모카', '카푸치노']\n",
    "\n",
    "pd_series2 = pd.Series(value, index=ser_index)\n",
    "\n",
    "print(pd_series2) # 이때 dtype은 index가 아니라 data value.. 매우 중요 포인트. 문자는 사칙연산이 안 되므로. +는 2개를 연결해주는 형태로 되지만, 나머지 연산은 불가."
   ]
  },
  {
   "cell_type": "code",
   "execution_count": 8,
   "metadata": {},
   "outputs": [
    {
     "name": "stdout",
     "output_type": "stream",
     "text": [
      "Series의 value 값은 [5000 6000 6500 6500]\n",
      "Series의 index 값은 Index(['아메리카노', '카페라떼', '카페모카', '카푸치노'], dtype='object')\n"
     ]
    }
   ],
   "source": [
    "# Series라는 Class에는 적어도 2개의 변수가 존재\n",
    "# values, index 변수가 존재\n",
    "print('Series의 value 값은', pd_series2.values)\n",
    "print('Series의 index 값은', pd_series2.index)\n",
    "\n",
    "#이러면 값이 배열로 보이게 됨."
   ]
  },
  {
   "cell_type": "code",
   "execution_count": 9,
   "metadata": {},
   "outputs": [
    {
     "name": "stdout",
     "output_type": "stream",
     "text": [
      "<class 'numpy.ndarray'>\n"
     ]
    }
   ],
   "source": [
    "print(type(pd_series2.values))\n",
    "# 넘파이가 자동으로 이렇게 되는 거~"
   ]
  },
  {
   "cell_type": "code",
   "execution_count": null,
   "metadata": {},
   "outputs": [],
   "source": []
  }
 ],
 "metadata": {
  "kernelspec": {
   "display_name": "Python 3",
   "language": "python",
   "name": "python3"
  },
  "language_info": {
   "codemirror_mode": {
    "name": "ipython",
    "version": 3
   },
   "file_extension": ".py",
   "mimetype": "text/x-python",
   "name": "python",
   "nbconvert_exporter": "python",
   "pygments_lexer": "ipython3",
   "version": "3.12.1"
  }
 },
 "nbformat": 4,
 "nbformat_minor": 2
}
