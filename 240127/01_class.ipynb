{
 "cells": [
  {
   "cell_type": "markdown",
   "metadata": {},
   "source": [
    "### class 선언\n",
    "- class 키워드를 이용하여 클래스 선언\n",
    "- class 이름은 일반적으로 첫글자는 대문자로 표기\n",
    "\n",
    "### class 생성\n",
    "- 선언이 된 class를 변수를 이용하여 class를 저장\n",
    "\n",
    "### class 안에 존재하는 변수, 함수를 호출\n",
    "- class 내부에 저장되어 있는 변수, 함수를 호출"
   ]
  },
  {
   "cell_type": "code",
   "execution_count": 6,
   "metadata": {},
   "outputs": [],
   "source": [
    "# class 선언\n",
    "class Class_1:\n",
    "    # 특수 함수(생성자 함수) : class가 생성이 될 때 자동적으로 한 번만 실행\n",
    "    # 함수명은 '__init__' 클래스 안에서 객체 변수를 생성할 때 사용\n",
    "    def __init__(self, input_x, input_y):\n",
    "        # self 변수를 생성 - \n",
    "        self.x = input_x\n",
    "        self.y = input_y"
   ]
  },
  {
   "cell_type": "code",
   "execution_count": 7,
   "metadata": {},
   "outputs": [],
   "source": [
    "# class 생성\n",
    "a_class = Class_1(10, 3) \n",
    "\n",
    "#self란 self에 들어갈 값은 이미 적어놓았는데 그게 바로 'Class_1' 해당하는 공간을 셀프가 받아오는 것. 인자값만 2개 넣어주면 된다.\n"
   ]
  },
  {
   "cell_type": "code",
   "execution_count": 8,
   "metadata": {},
   "outputs": [
    {
     "name": "stdout",
     "output_type": "stream",
     "text": [
      "<__main__.Class_1 object at 0x00000257FC30B860>\n"
     ]
    }
   ],
   "source": [
    "print(a_class)"
   ]
  },
  {
   "cell_type": "code",
   "execution_count": 9,
   "metadata": {},
   "outputs": [
    {
     "name": "stdout",
     "output_type": "stream",
     "text": [
      "10\n",
      "3\n"
     ]
    }
   ],
   "source": [
    "#클래스 내부에 있는 변수를 호출\n",
    "print(a_class.x)\n",
    "print(a_class.y)"
   ]
  },
  {
   "cell_type": "code",
   "execution_count": 10,
   "metadata": {},
   "outputs": [],
   "source": [
    "b_class = Class_1(20, 1)"
   ]
  },
  {
   "cell_type": "markdown",
   "metadata": {},
   "source": [
    "#### 같은 클래스 안에서 공유할 수 있는 클래스.\n",
    "#### 클래스 안에서는 self\n",
    "#### .은 '뭐뭐 안에'라는 의미"
   ]
  },
  {
   "cell_type": "code",
   "execution_count": 2,
   "metadata": {},
   "outputs": [],
   "source": [
    "# class 변수가 존재하는 Class 선언\n",
    "# 생성자 함수를 만들기 전에 class 변수를 만든 다음, class 바깥에 함수를 만들어볼 것.\n",
    "# 특정 지역 안에서만 쓸 수 있는 지역 변수가 아닌 전역 변수?.\n",
    "# 모두가 SHARE할 수 있는 class.. 지역 변수지만 전역 변수의 특징을 가지고 있는?\n",
    "class Class_2:\n",
    "    # class 변수를 생성\n",
    "    user_list = []\n",
    "    # 생성자 함수를 생성\n",
    "    def __init__(self, input_name, input_age):\n",
    "        self.name = input_name\n",
    "        self.age = input_age\n",
    "        # 클래스 변수에 name을 추가\n",
    "        self.user_list.append(input_name)  #공유를 하고 있지만 이 안에서는 생성이 되고 있는 user_list에 append를 해주겠다.."
   ]
  },
  {
   "cell_type": "code",
   "execution_count": 3,
   "metadata": {},
   "outputs": [],
   "source": [
    "user_1 = Class_2('test', 20)\n",
    "user_2 = Class_2('test2', 30)"
   ]
  },
  {
   "cell_type": "code",
   "execution_count": 4,
   "metadata": {},
   "outputs": [
    {
     "name": "stdout",
     "output_type": "stream",
     "text": [
      "test\n",
      "test2\n"
     ]
    }
   ],
   "source": [
    "print(user_1.name)\n",
    "print(user_2.name)"
   ]
  },
  {
   "cell_type": "code",
   "execution_count": 5,
   "metadata": {},
   "outputs": [
    {
     "name": "stdout",
     "output_type": "stream",
     "text": [
      "['test', 'test2']\n",
      "['test', 'test2']\n"
     ]
    }
   ],
   "source": [
    "print(user_1.user_list)\n",
    "print(user_2.user_list)"
   ]
  },
  {
   "cell_type": "code",
   "execution_count": 6,
   "metadata": {},
   "outputs": [],
   "source": [
    "# 보통은 객체 변수를 쓰는 경우가 더 많음\n",
    "# self가 앞에 붙어있으면 독립적으로 움직인다..\n",
    "# self가 "
   ]
  },
  {
   "cell_type": "code",
   "execution_count": 7,
   "metadata": {},
   "outputs": [],
   "source": [
    "user_3 = Class_2('test3', 40)\n"
   ]
  },
  {
   "cell_type": "code",
   "execution_count": 10,
   "metadata": {},
   "outputs": [
    {
     "name": "stdout",
     "output_type": "stream",
     "text": [
      "['test', 'test2', 'test3']\n"
     ]
    }
   ],
   "source": [
    "print(user_1.user_list)"
   ]
  },
  {
   "cell_type": "code",
   "execution_count": 13,
   "metadata": {},
   "outputs": [],
   "source": [
    "# class 내부에 함수가 존재하는 class 선언\n",
    "class Class_3:\n",
    "    def __init__(self, input_x, input_y):\n",
    "        self.x = input_x\n",
    "        self.y = input_y\n",
    "\n",
    "    def add(self):\n",
    "        result = self.x + self.y\n",
    "        return result\n",
    "    \n",
    "    def sub(self):\n",
    "        result = self.x - self.y\n",
    "        return result"
   ]
  },
  {
   "cell_type": "code",
   "execution_count": 17,
   "metadata": {},
   "outputs": [],
   "source": [
    "c_class = Class_3(10, 3)\n",
    "d_class = Class_3(20, 7)"
   ]
  },
  {
   "cell_type": "code",
   "execution_count": 18,
   "metadata": {},
   "outputs": [],
   "source": [
    "# 클래스는 구조만 잘 이해하고 있으면 충분하다.\n",
    "# 정확한 개념 이해는 3년차.. 5년차부터 활용하기 시작했음..\n",
    "# 그만큼 어려운 개념!"
   ]
  },
  {
   "cell_type": "code",
   "execution_count": 19,
   "metadata": {},
   "outputs": [
    {
     "name": "stdout",
     "output_type": "stream",
     "text": [
      "13\n",
      "27\n"
     ]
    }
   ],
   "source": [
    "print(c_class.add())\n",
    "print(d_class.add())"
   ]
  },
  {
   "cell_type": "code",
   "execution_count": 20,
   "metadata": {},
   "outputs": [],
   "source": [
    "# class STR이라는 함수를 해왔던 것.. 계속 쓰고 있었던 것임..."
   ]
  },
  {
   "cell_type": "code",
   "execution_count": 22,
   "metadata": {},
   "outputs": [
    {
     "name": "stdout",
     "output_type": "stream",
     "text": [
      "7\n",
      "13\n"
     ]
    }
   ],
   "source": [
    "print(c_class.sub())\n",
    "print(d_class.sub())"
   ]
  },
  {
   "cell_type": "code",
   "execution_count": null,
   "metadata": {},
   "outputs": [],
   "source": []
  }
 ],
 "metadata": {
  "kernelspec": {
   "display_name": "Python 3",
   "language": "python",
   "name": "python3"
  },
  "language_info": {
   "codemirror_mode": {
    "name": "ipython",
    "version": 3
   },
   "file_extension": ".py",
   "mimetype": "text/x-python",
   "name": "python",
   "nbconvert_exporter": "python",
   "pygments_lexer": "ipython3",
   "version": "3.12.1"
  }
 },
 "nbformat": 4,
 "nbformat_minor": 2
}
