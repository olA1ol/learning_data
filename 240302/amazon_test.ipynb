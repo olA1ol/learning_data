{
 "cells": [
  {
   "cell_type": "code",
   "execution_count": 16,
   "metadata": {},
   "outputs": [],
   "source": [
    "import requests\n",
    "import pandas as pd\n",
    "from bs4 import BeautifulSoup as bs\n",
    "\n",
    "url = \"https://www.amazon.com/SAMSUNG-Android-Speakers-Upgraded-Graphite/product-reviews/B0CLF3VPMV/ref=cm_cr_dp_d_show_all_btm?ie=UTF8&reviewerType=all_reviews\"\n"
   ]
  },
  {
   "cell_type": "code",
   "execution_count": 17,
   "metadata": {},
   "outputs": [],
   "source": [
    "import warnings\n",
    "# 경고 메시지 출력 제거\n",
    "warnings.filterwarnings('ignore')"
   ]
  },
  {
   "cell_type": "code",
   "execution_count": 18,
   "metadata": {},
   "outputs": [
    {
     "data": {
      "text/plain": [
       "<Response [503]>"
      ]
     },
     "execution_count": 18,
     "metadata": {},
     "output_type": "execute_result"
    }
   ],
   "source": [
    "response = requests.get(url)\n",
    "\n",
    "response"
   ]
  },
  {
   "cell_type": "code",
   "execution_count": 19,
   "metadata": {},
   "outputs": [],
   "source": [
    "html_data = response.text\n"
   ]
  },
  {
   "cell_type": "code",
   "execution_count": 20,
   "metadata": {},
   "outputs": [],
   "source": [
    "# BeautifulSoup을 이용하여 데이터를 파싱\n",
    "soup = bs(html_data, 'html.parser')"
   ]
  },
  {
   "cell_type": "code",
   "execution_count": 38,
   "metadata": {},
   "outputs": [],
   "source": [
    "div_data = soup.find(\n",
    "    'div',\n",
    "    attrs={\n",
    "        'id' : 'cm_cr-review_list'\n",
    "    }\n",
    ")"
   ]
  },
  {
   "cell_type": "code",
   "execution_count": 39,
   "metadata": {},
   "outputs": [
    {
     "ename": "AttributeError",
     "evalue": "'NoneType' object has no attribute 'find'",
     "output_type": "error",
     "traceback": [
      "\u001b[1;31m---------------------------------------------------------------------------\u001b[0m",
      "\u001b[1;31mAttributeError\u001b[0m                            Traceback (most recent call last)",
      "Cell \u001b[1;32mIn[39], line 1\u001b[0m\n\u001b[1;32m----> 1\u001b[0m div_data2 \u001b[38;5;241m=\u001b[39m \u001b[43mdiv_data\u001b[49m\u001b[38;5;241;43m.\u001b[39;49m\u001b[43mfind\u001b[49m(\n\u001b[0;32m      2\u001b[0m     \u001b[38;5;124m'\u001b[39m\u001b[38;5;124mdiv\u001b[39m\u001b[38;5;124m'\u001b[39m,\n\u001b[0;32m      3\u001b[0m     attrs \u001b[38;5;241m=\u001b[39m {\n\u001b[0;32m      4\u001b[0m         \u001b[38;5;124m'\u001b[39m\u001b[38;5;124mdata-hook\u001b[39m\u001b[38;5;124m'\u001b[39m : \u001b[38;5;124m'\u001b[39m\u001b[38;5;124mreview-body\u001b[39m\u001b[38;5;124m'\u001b[39m\n\u001b[0;32m      5\u001b[0m     }\n\u001b[0;32m      6\u001b[0m )\n\u001b[0;32m      7\u001b[0m div_data2\n",
      "\u001b[1;31mAttributeError\u001b[0m: 'NoneType' object has no attribute 'find'"
     ]
    }
   ],
   "source": [
    "div_data2 = div_data.find(\n",
    "    'div',\n",
    "    attrs = {\n",
    "        'data-hook' : 'review-body' #동적 데이터라 안 나옴,, selenium 써야 함!\n",
    "    }\n",
    ")\n",
    "div_data2"
   ]
  },
  {
   "cell_type": "code",
   "execution_count": 35,
   "metadata": {},
   "outputs": [
    {
     "ename": "AttributeError",
     "evalue": "'NoneType' object has no attribute 'find_all'",
     "output_type": "error",
     "traceback": [
      "\u001b[1;31m---------------------------------------------------------------------------\u001b[0m",
      "\u001b[1;31mAttributeError\u001b[0m                            Traceback (most recent call last)",
      "Cell \u001b[1;32mIn[35], line 1\u001b[0m\n\u001b[1;32m----> 1\u001b[0m a_list \u001b[38;5;241m=\u001b[39m \u001b[43mdiv_data\u001b[49m\u001b[38;5;241;43m.\u001b[39;49m\u001b[43mfind_all\u001b[49m(\u001b[38;5;124m'\u001b[39m\u001b[38;5;124mreview-body\u001b[39m\u001b[38;5;124m'\u001b[39m)\n\u001b[0;32m      2\u001b[0m a_list\n",
      "\u001b[1;31mAttributeError\u001b[0m: 'NoneType' object has no attribute 'find_all'"
     ]
    }
   ],
   "source": [
    "a_list = div_data.find_all('review-body')\n",
    "a_list"
   ]
  },
  {
   "cell_type": "code",
   "execution_count": 27,
   "metadata": {},
   "outputs": [
    {
     "data": {
      "text/plain": [
       "3"
      ]
     },
     "execution_count": 27,
     "metadata": {},
     "output_type": "execute_result"
    }
   ],
   "source": [
    "len(a_list)"
   ]
  },
  {
   "cell_type": "code",
   "execution_count": null,
   "metadata": {},
   "outputs": [
    {
     "data": {
      "text/plain": [
       "\"I have had the A9+ now for 10 days so I have got a good feel for it and as far as tablets under $250 this will be tough to beat. I love the big screen that comes with it. It's great for Netflix and YouTube or anything else like that. You don't get 4K with this tablet but 1080 is more than good enough. You get great audio and the battery life is exceptional. On a full charge you get 2 days of use and thats with me heavily using it. I recommend getting the 128 gb version of this tablet given its a tremendous value. If you are use to using a laptop or a PC this tablet comes equipped with Samsung Dex which gives you that same look and feel so that's a big plus. Overall it's a really good tablet for the price that comes with a lot of bells and whistles you see with a expensive tablet. I highly recommend!\""
      ]
     },
     "execution_count": 12,
     "metadata": {},
     "output_type": "execute_result"
    }
   ],
   "source": [
    "a_list[1].get_text()"
   ]
  },
  {
   "cell_type": "code",
   "execution_count": null,
   "metadata": {},
   "outputs": [
    {
     "data": {
      "text/plain": [
       "[\"\\nI have had the A9+ now for 10 days so I have got a good feel for it and as far as tablets under $250 this will be tough to beat. I love the big screen that comes with it. It's great for Netflix and YouTube or anything else like that. You don't get 4K with this tablet but 1080 is more than good enough. You get great audio and the battery life is exceptional. On a full charge you get 2 days of use and thats with me heavily using it. I recommend getting the 128 gb version of this tablet given its a tremendous value. If you are use to using a laptop or a PC this tablet comes equipped with Samsung Dex which gives you that same look and feel so that's a big plus. Overall it's a really good tablet for the price that comes with a lot of bells and whistles you see with a expensive tablet. I highly recommend!\\nRead more\",\n",
       " \"I have had the A9+ now for 10 days so I have got a good feel for it and as far as tablets under $250 this will be tough to beat. I love the big screen that comes with it. It's great for Netflix and YouTube or anything else like that. You don't get 4K with this tablet but 1080 is more than good enough. You get great audio and the battery life is exceptional. On a full charge you get 2 days of use and thats with me heavily using it. I recommend getting the 128 gb version of this tablet given its a tremendous value. If you are use to using a laptop or a PC this tablet comes equipped with Samsung Dex which gives you that same look and feel so that's a big plus. Overall it's a really good tablet for the price that comes with a lot of bells and whistles you see with a expensive tablet. I highly recommend!\",\n",
       " 'Read more']"
      ]
     },
     "execution_count": 13,
     "metadata": {},
     "output_type": "execute_result"
    }
   ],
   "source": [
    "data_list = []\n",
    "\n",
    "for a in a_list:\n",
    "    # print(a.get_text())\n",
    "        #추출한 텍스트가 데이터가 존재하는 경우\n",
    "\n",
    "    if a.get_text().strip(): # strip()은 좌우 여백 없앤다. \\n (줄바꿈 의미) 이 나와서 이걸 없애기 위함.\n",
    "        data_list.append(a.get_text())\n",
    "\n",
    "data_list"
   ]
  },
  {
   "cell_type": "code",
   "execution_count": null,
   "metadata": {},
   "outputs": [],
   "source": []
  }
 ],
 "metadata": {
  "kernelspec": {
   "display_name": "Python 3",
   "language": "python",
   "name": "python3"
  },
  "language_info": {
   "codemirror_mode": {
    "name": "ipython",
    "version": 3
   },
   "file_extension": ".py",
   "mimetype": "text/x-python",
   "name": "python",
   "nbconvert_exporter": "python",
   "pygments_lexer": "ipython3",
   "version": "3.12.1"
  }
 },
 "nbformat": 4,
 "nbformat_minor": 2
}
