{
 "cells": [
  {
   "cell_type": "code",
   "execution_count": 46,
   "metadata": {},
   "outputs": [],
   "source": [
    "import requests\n",
    "import pandas as pd\n",
    "from bs4 import BeautifulSoup as bs"
   ]
  },
  {
   "cell_type": "code",
   "execution_count": 5,
   "metadata": {},
   "outputs": [],
   "source": [
    "import warnings\n",
    "# 경고 메시지 출력 제거\n",
    "warnings.filterwarnings('ignore')"
   ]
  },
  {
   "cell_type": "code",
   "execution_count": 2,
   "metadata": {},
   "outputs": [],
   "source": [
    "url = \"https://news.naver.com/main/list.naver?mode=LPOD&mid=sec&sid1=001&sid2=140&oid=001&isYeonhapFlash=Y\"\n",
    "\n",
    "response = requests.get(url)\n"
   ]
  },
  {
   "cell_type": "code",
   "execution_count": 7,
   "metadata": {},
   "outputs": [
    {
     "data": {
      "text/plain": [
       "<Response [200]>"
      ]
     },
     "execution_count": 7,
     "metadata": {},
     "output_type": "execute_result"
    }
   ],
   "source": [
    "response"
   ]
  },
  {
   "cell_type": "code",
   "execution_count": 9,
   "metadata": {},
   "outputs": [],
   "source": [
    "html_data = response.text"
   ]
  },
  {
   "cell_type": "code",
   "execution_count": 11,
   "metadata": {},
   "outputs": [],
   "source": [
    "# BeautifulSoup을 이용하여 데이터를 파싱\n",
    "soup = bs(html_data, 'html.parser')\n",
    "\n"
   ]
  },
  {
   "cell_type": "code",
   "execution_count": 12,
   "metadata": {},
   "outputs": [
    {
     "data": {
      "text/plain": [
       "<div class=\"content\" id=\"main_content\">\n",
       "<div class=\"list_header newsflash_header\">\n",
       "<h3>연합뉴스 속보</h3>\n",
       "<p class=\"ytn_info\"><span class=\"bar\">|</span> 이 페이지는  연합뉴스가 직접 편집합니다.</p>\n",
       "</div>\n",
       "<div class=\"list_body newsflash_body\">\n",
       "<div class=\"ytn_top\">\n",
       "<dl class=\"type04\">\n",
       "<dt class=\"photo\"><a href=\"https://n.news.naver.com/mnews/article/001/0014538096?sid=000000\"><img alt=\"비대면진료 확대로 이용 2배 급증했지만…현장반응은 '글쎄'\" height=\"90\" src=\"https://imgnews.pstatic.net/image/origin/001/2024/03/02/14538096.jpg?type=nf175_110\" width=\"132\"/>\n",
       "<span class=\"trans_border\"></span></a></dt>\n",
       "<dt><a class=\"nclicks(cnt_flashart)\" href=\"https://n.news.naver.com/mnews/article/001/0014538096?rc=N&amp;ntype=RANKING\">비대면진료 확대로 이용 2배 급증했지만…현장반응은 '글쎄'</a></dt>\n",
       "<dd>'정부 기대했던' 병원급 참여 없고, '의원급' 위주 급증병원들 \"한시적 허용 우려\", \"사후 청구 부담돼\"복지부는 \"상급종합병원 외래...\n",
       "            <div class=\"emphasis_info _rcount\" data-comment=\"{gno:'news001,0014538096',nclicks:'fls.cmt'}\"><span class=\"writing\">연합뉴스</span><span class=\"date\">2024.03.02</span></div>\n",
       "<ul>\n",
       "<li class=\"_rcount\" data-comment=\"{gno:'news001,0014537963',nclicks:'fls.cmt'}\">\n",
       "<a class=\"nclicks(fls.list)\" href=\"https://n.news.naver.com/mnews/article/001/0014537963?rc=N&amp;ntype=RANKING\">복귀 시한 마지막날 전공의 복귀자 271명 늘어…누적 565명</a><span class=\"writing\">연합뉴스</span><span class=\"date\">2024.03.01</span>\n",
       "</li>\n",
       "<li class=\"_rcount\" data-comment=\"{gno:'news001,0014538007',nclicks:'fls.cmt'}\">\n",
       "<a class=\"nclicks(fls.list)\" href=\"https://n.news.naver.com/mnews/article/001/0014538007?rc=N&amp;ntype=RANKING\">복지부, 전공의 13명 업무개시명령 '공고'…미복귀 처벌 초읽기</a><span class=\"writing\">연합뉴스</span><span class=\"date\">2024.03.01</span>\n",
       "</li>\n",
       "<li class=\"_rcount\" data-comment=\"{gno:'news001,0014538053',nclicks:'fls.cmt'}\">\n",
       "<a class=\"nclicks(fls.list)\" href=\"https://n.news.naver.com/mnews/article/001/0014538053?rc=N&amp;ntype=RANKING\">의협 \"저항하고 목소리 높일 것…국민에 불편 끼쳐드릴수 있다\"</a><span class=\"writing\">연합뉴스</span><span class=\"date\">2024.03.01</span>\n",
       "</li>\n",
       "</ul>\n",
       "</dd>\n",
       "</dl>\n",
       "</div>\n",
       "<ul class=\"type02\">\n",
       "<li class=\"_rcount\" data-comment=\"{gno:'news001,0014538182',nclicks:'fls.cmt'}\">\n",
       "<a class=\"nclicks(cnt_flashart)\" href=\"https://n.news.naver.com/mnews/article/001/0014538182?rc=N&amp;ntype=RANKING\"><strong>[5·18 보고서 공개] ① 사망원인 총상 81%…10대 58명 숨져</strong></a>\n",
       "<span class=\"writing\">연합뉴스</span>\n",
       "<span class=\"date\">2024.03.02. 오전 9:00</span>\n",
       "</li>\n",
       "<li class=\"_rcount\" data-comment=\"{gno:'news001,0014538197',nclicks:'fls.cmt'}\">\n",
       "<a class=\"nclicks(cnt_flashart)\" href=\"https://n.news.naver.com/mnews/article/001/0014538197?rc=N&amp;ntype=RANKING\"><strong>전국 대부분 영하권 추위…강풍에 안전사고 주의</strong></a>\n",
       "<span class=\"writing\">연합뉴스</span>\n",
       "<span class=\"date\">2024.03.02. 오전 9:19</span>\n",
       "</li>\n",
       "<li class=\"_rcount\" data-comment=\"{gno:'news001,0014538158',nclicks:'fls.cmt'}\">\n",
       "<a class=\"nclicks(cnt_flashart)\" href=\"https://n.news.naver.com/mnews/article/001/0014538158?rc=N&amp;ntype=RANKING\"><strong>작년 1인당 육류소비량 60㎏로 쌀 넘어…'최애'는 돼지고기</strong></a>\n",
       "<span class=\"writing\">연합뉴스</span>\n",
       "<span class=\"date\">2024.03.02. 오전 8:11</span>\n",
       "</li>\n",
       "<li class=\"_rcount\" data-comment=\"{gno:'news001,0014538104',nclicks:'fls.cmt'}\">\n",
       "<a class=\"nclicks(cnt_flashart)\" href=\"https://n.news.naver.com/mnews/article/001/0014538104?rc=N&amp;ntype=RANKING\"><strong>사과 안 그래도 비싼데…\"축구장 4천개 사과밭 사라진다\"</strong></a>\n",
       "<span class=\"writing\">연합뉴스</span>\n",
       "<span class=\"date\">2024.03.02. 오전 6:25</span>\n",
       "</li>\n",
       "<li class=\"_rcount\" data-comment=\"{gno:'news001,0014538154',nclicks:'fls.cmt'}\">\n",
       "<a class=\"nclicks(cnt_flashart)\" href=\"https://n.news.naver.com/mnews/article/001/0014538154?rc=N&amp;ntype=RANKING\"><strong>상여금 상위 0.1% 직장인, 한해 '보너스' 평균 6억9천만원</strong></a>\n",
       "<span class=\"writing\">연합뉴스</span>\n",
       "<span class=\"date\">2024.03.02. 오전 8:01</span>\n",
       "</li>\n",
       "<li class=\"_rcount\" data-comment=\"{gno:'news001,0014538073',nclicks:'fls.cmt'}\">\n",
       "<a class=\"nclicks(cnt_flashart)\" href=\"https://n.news.naver.com/mnews/article/001/0014538073?rc=N&amp;ntype=RANKING\"><strong>민주, 심야 최고위서 '홍영표 컷오프' 의결…동작을 류삼영 공천</strong></a>\n",
       "<span class=\"writing\">연합뉴스</span>\n",
       "<span class=\"date\">2024.03.02. 오전 1:37</span>\n",
       "</li>\n",
       "<li class=\"_rcount\" data-comment=\"{gno:'news001,0014538144',nclicks:'fls.cmt'}\">\n",
       "<a class=\"nclicks(cnt_flashart)\" href=\"https://n.news.naver.com/mnews/article/001/0014538144?rc=N&amp;ntype=RANKING\"><strong>1월 국내 수입차시장서 일본차 점유율 15%…'노재팬' 이후 최고</strong></a>\n",
       "<span class=\"writing\">연합뉴스</span>\n",
       "<span class=\"date\">2024.03.02. 오전 8:00</span>\n",
       "</li>\n",
       "<li class=\"_rcount\" data-comment=\"{gno:'news001,0014538111',nclicks:'fls.cmt'}\">\n",
       "<a class=\"nclicks(cnt_flashart)\" href=\"https://n.news.naver.com/mnews/article/001/0014538111?rc=N&amp;ntype=RANKING\"><strong>나스닥 하루만에 사상 최고치 갈아치워…AI 훈풍 타고 고공비행</strong></a>\n",
       "<span class=\"writing\">연합뉴스</span>\n",
       "<span class=\"date\">2024.03.02. 오전 6:53</span>\n",
       "</li>\n",
       "<li class=\"_rcount\" data-comment=\"{gno:'news001,0014538212',nclicks:'fls.cmt'}\">\n",
       "<a class=\"nclicks(cnt_flashart)\" href=\"https://n.news.naver.com/mnews/article/001/0014538212?rc=N&amp;ntype=RANKING\"><strong>가자지구는 무법지대…구호트럭 참변으로 '통치공백' 부각</strong></a>\n",
       "<span class=\"writing\">연합뉴스</span>\n",
       "<span class=\"date\">2024.03.02. 오전 9:41</span>\n",
       "</li>\n",
       "</ul>\n",
       "</div>\n",
       "<div class=\"paging paging_ytn\">\n",
       "<strong>1</strong>\n",
       "<a class=\"nclicks(fls.page)\" href=\"?mode=LPOD&amp;sid2=140&amp;sid1=001&amp;mid=sec&amp;oid=001&amp;isYeonhapFlash=Y&amp;date=20240302&amp;page=2\">2</a>\n",
       "</div>\n",
       "<h4 class=\"blind\">연합뉴스 이전날짜 더보기 링크모음</h4>\n",
       "<div class=\"pagenavi_day pagenavi_day_ytn\">\n",
       "<span class=\"viewday\">3월2일(토)</span><span class=\"devidebar\">·</span><a class=\"nclicks(fls.date)\" href=\"?mode=LPOD&amp;sid2=140&amp;sid1=001&amp;mid=sec&amp;oid=001&amp;isYeonhapFlash=Y&amp;date=20240301\">3월1일(금)</a><span class=\"devidebar\">·</span><a class=\"nclicks(fls.date)\" href=\"?mode=LPOD&amp;sid2=140&amp;sid1=001&amp;mid=sec&amp;oid=001&amp;isYeonhapFlash=Y&amp;date=20240229\">2월29일(목)</a><span class=\"devidebar\">·</span><a class=\"nclicks(fls.date)\" href=\"?mode=LPOD&amp;sid2=140&amp;sid1=001&amp;mid=sec&amp;oid=001&amp;isYeonhapFlash=Y&amp;date=20240228\">2월28일(수)</a><span class=\"devidebar\">·</span><a class=\"nclicks(fls.date)\" href=\"?mode=LPOD&amp;sid2=140&amp;sid1=001&amp;mid=sec&amp;oid=001&amp;isYeonhapFlash=Y&amp;date=20240227\">2월27일(화)</a></div>\n",
       "<ul class=\"ytn_bottom\">\n",
       "<ul class=\"ytn_bottom\">\n",
       "<li>\n",
       "<dl class=\"type05\">\n",
       "<dt>\n",
       "     화제의 사진/영상 \n",
       "   </dt>\n",
       "<dd class=\"type_photo\">\n",
       "<ul>\n",
       "<li> <a href=\"https://www.yna.co.kr/view/AKR20240229141500505?input=1195z\"> <img alt=\"\" height=\"110\" src=\"https://imgnews.pstatic.net/image/origin/001/2024/03/02/14538118.jpg?type=nf175_110\" width=\"175\"> [OK!제보] 불나면 어쩌려고 소화전 앞에 주차…거리 위 안…<span class=\"trans_border\"></span> </img></a> </li>\n",
       "<li> <a href=\"https://www.yna.co.kr/view/AKR20240301056300005?input=1195z\"> <img alt=\"\" height=\"110\" src=\"https://imgnews.pstatic.net/image/origin/001/2024/03/02/14538143.jpg?type=nf175_110\" width=\"175\"/> '얼굴 없는 가수' 日아도 \"제 노래엔 혼돈 속 아름다움 있죠…<span class=\"trans_border\"></span> </a> </li>\n",
       "<li> <a href=\"https://www.yna.co.kr/view/AKR20240218035900528?input=1195z\"> <img alt=\"\" height=\"110\" src=\"https://imgnews.pstatic.net/image/origin/001/2024/03/02/14538181.jpg?type=nf175_110\" width=\"175\"/> [미술로 보는 세상] \"그냥 좋아. 나는 그릴 거야\"<span class=\"trans_border\"></span> </a> </li>\n",
       "</ul>\n",
       "</dd>\n",
       "</dl> </li>\n",
       "</ul>\n",
       "<ul class=\"ytn_bottom\">\n",
       "<li>\n",
       "<dl class=\"type05\">\n",
       "<dt>\n",
       "</dt>\n",
       "<dd class=\"type_photo\">\n",
       "<ul>\n",
       "<li> <a href=\"https://www.yna.co.kr/view/AKR20240229125000004?input=1195z\"> <img alt=\"\" height=\"110\" src=\"https://imgnews.pstatic.net/image/origin/001/2024/03/02/14538165.jpg?type=nf175_110\" width=\"175\"/> \"'혼술족'이 어울려 마시는 경우보다 우울·사회불안 경험↑…<span class=\"trans_border\"></span> </a> </li>\n",
       "<li> <a href=\"https://www.yna.co.kr/view/AKR20240229127100052?input=1195z\"> <img alt=\"\" height=\"110\" src=\"https://imgnews.pstatic.net/image/origin/001/2024/03/02/14538149.jpg?type=nf175_110\" width=\"175\"/> 언땅 뚫고 나왔다…남녘 봄소식 알리는 김해 초벌부추 힘 '…<span class=\"trans_border\"></span> </a> </li>\n",
       "<li> <a href=\"https://www.yna.co.kr/view/AKR20240301057100005?input=1195z\"> <img alt=\"\" height=\"110\" src=\"https://imgnews.pstatic.net/image/upload/item/2024/03/02/072757727_2.jpg\" width=\"175\"/> '네가 왜 여기서 나와?'…인스타툰·유튜브툰 흡수한 네이버…<span class=\"trans_border\"></span> </a> </li>\n",
       "</ul>\n",
       "</dd>\n",
       "</dl> </li>\n",
       "</ul>\n",
       "<ul class=\"ytn_bottom\">\n",
       "<li>\n",
       "<dl class=\"type05\">\n",
       "<dt>\n",
       "     오늘의 사건 / 사고 \n",
       "   </dt>\n",
       "<dt class=\"photo\">\n",
       "<a href=\"https://www.yna.co.kr/view/AKR20240302012300056?input=1195z\"> <img alt=\"\" height=\"110\" src=\"https://imgnews.pstatic.net/image/origin/001/2024/03/02/14538156.jpg?type=nf175_110\" width=\"175\"/> 야간수색에도 제주 어선 전복사고 실종자 2명 못찾아<span class=\"trans_border\"></span></a>\n",
       "</dt>\n",
       "<dd>\n",
       "<ul>\n",
       "<li> <a href=\"https://www.yna.co.kr/view/AKR20240302020300062?input=1195z\"> <strong> CCTV에 생중계된 차량 털이 행각…5분 만에 범인 … </strong> </a> <img alt=\"포토\" class=\"icon\" height=\"13\" src=\"https://ssl.pstatic.net/static.news/image/news/2017/07/12/ico_photo.gif\" title=\"포토\" width=\"13\"/> </li>\n",
       "<li> <a href=\"https://www.yna.co.kr/view/AKR20240229164300062?input=1195z\"> \"선처했는데 또\" 짧은 바지·원피스 여성들 몰카 50… </a> <img alt=\"포토\" class=\"icon\" height=\"13\" src=\"https://ssl.pstatic.net/static.news/image/news/2017/07/12/ico_photo.gif\" title=\"포토\" width=\"13\"/> </li>\n",
       "<li> <a href=\"https://www.yna.co.kr/view/AKR20240301060900062?input=1195z\"> \"낮아 보였는데…\" 횡성 덕고산서 길잃은 60대 부부 … </a> <img alt=\"포토\" class=\"icon\" height=\"13\" src=\"https://ssl.pstatic.net/static.news/image/news/2017/07/12/ico_photo.gif\" title=\"포토\" width=\"13\"/> </li>\n",
       "<li> <a href=\"https://www.yna.co.kr/view/AKR20240301039700053?input=1195z\"> 포항 해안서 닷새 만에 또 사람 뼈 추정 물체 발견 </a> <img alt=\"포토\" class=\"icon\" height=\"13\" src=\"https://ssl.pstatic.net/static.news/image/news/2017/07/12/ico_photo.gif\" title=\"포토\" width=\"13\"/> </li>\n",
       "<li> <a href=\"https://www.yna.co.kr/view/AKR20240301056200051?input=1195z\"> 119구급대, 위기의 신생아 대학병원 신속 이송 목숨 … </a> <strong class=\"r_ico r_vod_txt\" title=\"영상\">동영상기사</strong> </li>\n",
       "</ul>\n",
       "</dd>\n",
       "</dl> </li>\n",
       "</ul>\n",
       "<ul class=\"ytn_bottom\">\n",
       "<li>\n",
       "<dl class=\"type05\">\n",
       "<dt>\n",
       "<a href=\"https://www.yna.co.kr/view/AKR20230102074700007?input=1195z\"> 스포츠 / 연예 </a>\n",
       "</dt>\n",
       "<dd class=\"type_photo\">\n",
       "<ul>\n",
       "<li> <a href=\"https://www.yna.co.kr/view/AKR20240302017700005?input=1195z\"> <img alt=\"\" height=\"110\" src=\"https://imgnews.pstatic.net/image/origin/001/2024/03/02/14538195.jpg?type=nf175_110\" width=\"175\"/> 블랙핑크 제니 협업곡, 영국 오피셜 싱글 차트 14주째 진입<span class=\"trans_border\"></span> </a> </li>\n",
       "<li> <a href=\"https://www.yna.co.kr/view/AKR20240302014051007?input=1195z\"> <img alt=\"\" height=\"110\" src=\"https://imgnews.pstatic.net/image/origin/001/2024/03/02/14538194.jpg?type=nf175_110\" width=\"175\"/> 맹수 같은 김하성, 한 타석에서 볼넷-도루-도루-득점<span class=\"trans_border\"></span> </a> </li>\n",
       "<li> <a href=\"https://www.yna.co.kr/view/AKR20240302010700007?input=1195z\"> <img alt=\"\" height=\"110\" src=\"https://imgnews.pstatic.net/image/origin/001/2024/03/02/14538134.jpg?type=nf175_110\" width=\"175\"/> 이정후, 아버지 이종범 코치 앞에서 153㎞ 강속구 공략해 안…<span class=\"trans_border\"></span> </a> </li>\n",
       "</ul>\n",
       "</dd>\n",
       "</dl> </li>\n",
       "</ul>\n",
       "<ul class=\"ytn_bottom\">\n",
       "<li>\n",
       "<dl class=\"type05\">\n",
       "<dt>\n",
       "<a class=\"on visit\" href=\"https://www.yna.co.kr/view/AKR20230722024700003?input=1195z\" target=\"_blank\">#트렌드 #핫클릭 #이슈</a>\n",
       "</dt>\n",
       "<dt class=\"photo\">\n",
       "<a href=\"https://www.yna.co.kr/view/AKR20240302010400075?input=1195z\"> <img alt=\"\" height=\"110\" src=\"https://imgnews.pstatic.net/image/origin/001/2024/03/02/14538139.jpg?type=nf175_110\" width=\"175\"/> \"FDA, '뇌에 칩이식' 발표 뉴럴링크 동물실험서 여러 문제 적발\"<span class=\"trans_border\"></span></a>\n",
       "</dt>\n",
       "<dd>\n",
       "<ul>\n",
       "<li> <a href=\"https://www.yna.co.kr/view/AKR20240229055700504?input=1195z\"> <strong> [장용훈의 한반도톡] 북한을 떠나온 사람을 어떻게 … </strong> </a> <img alt=\"포토\" class=\"icon\" height=\"13\" src=\"https://ssl.pstatic.net/static.news/image/news/2017/07/12/ico_photo.gif\" title=\"포토\" width=\"13\"/> </li>\n",
       "<li> <a href=\"https://www.yna.co.kr/view/AKR20240228081200052?input=1195z\"> [#핫플콕콕] 바다 보며 즐기는 맛과 멋…남해안 휴양… </a> <img alt=\"포토\" class=\"icon\" height=\"13\" src=\"https://ssl.pstatic.net/static.news/image/news/2017/07/12/ico_photo.gif\" title=\"포토\" width=\"13\"/> </li>\n",
       "<li> <a href=\"https://www.yna.co.kr/view/AKR20240301033500017?input=1195z\"> [이지 사이언스] AI가 엑스레이에 '콕'…\"병변 가능… </a> <img alt=\"포토\" class=\"icon\" height=\"13\" src=\"https://ssl.pstatic.net/static.news/image/news/2017/07/12/ico_photo.gif\" title=\"포토\" width=\"13\"/> </li>\n",
       "<li> <a href=\"https://www.yna.co.kr/view/AKR20240229120200530?input=1195z\"> [위클리 건강] \"세 살 비만 평생 간다…부모가 함께 … </a> <img alt=\"포토\" class=\"icon\" height=\"13\" src=\"https://ssl.pstatic.net/static.news/image/news/2017/07/12/ico_photo.gif\" title=\"포토\" width=\"13\"/> </li>\n",
       "<li> <a href=\"https://www.yna.co.kr/view/AKR20240301059300083?input=1195z\"> [특파원시선] 관례 깬 3중전회 연기…'시진핑 시대 … </a> <img alt=\"포토\" class=\"icon\" height=\"13\" src=\"https://ssl.pstatic.net/static.news/image/news/2017/07/12/ico_photo.gif\" title=\"포토\" width=\"13\"/> </li>\n",
       "</ul>\n",
       "</dd>\n",
       "</dl> </li>\n",
       "</ul>\n",
       "<ul class=\"ytn_bottom\">\n",
       "<li>\n",
       "<dl class=\"type05\">\n",
       "<dt>\n",
       "     디지털뉴스 \n",
       "   </dt>\n",
       "<dd class=\"type_photo\">\n",
       "<ul>\n",
       "<li> <a href=\"https://www.yna.co.kr/view/AKR20240229121900797?input=1195z\"> <img alt=\"\" height=\"110\" src=\"https://imgnews.pstatic.net/image/origin/001/2024/03/01/14537038.jpg?type=nf175_110\" width=\"175\"/> [Why요?] 왜 안중근은 '의사', 유관순은 '열사'일까?<span class=\"trans_border\"></span> </a> </li>\n",
       "<li> <a href=\"https://www.yna.co.kr/view/AKR20240227106300797?input=1195z\"> <img alt=\"\" height=\"110\" src=\"https://imgnews.pstatic.net/image/origin/001/2024/02/28/14531586.jpg?type=nf175_110\" width=\"175\"/> [톺뉴스] 미술관에서 결혼을?…장소도 가격도 특별한 '공공…<span class=\"trans_border\"></span> </a> </li>\n",
       "<li> <a href=\"https://www.yna.co.kr/view/AKR20240221063800797?input=1195z\"> <img alt=\"\" height=\"110\" src=\"https://imgnews.pstatic.net/image/upload/item/2024/02/25/090345284_AKR20240221063800797_01_i_P4.jpg\" width=\"175\"/> [리빙톡] 도둑처럼 붙은 '나잇살', 어떻게 해야 할까<span class=\"trans_border\"></span> </a> </li>\n",
       "</ul>\n",
       "</dd>\n",
       "</dl> </li>\n",
       "</ul>\n",
       "</ul>\n",
       "<div class=\"yonhap_banner\">\n",
       "<h3> <a href=\"https://www.yna.co.kr/\" target=\"_blank\"><img alt=\"연합뉴스\" height=\"60\" src=\"https://imgnews.pstatic.net/image/upload/item/2016/10/20/161931909_nban01.png\" width=\"145\"/></a> <a href=\"http://www.yonhapnewstv.co.kr\" target=\"_blank\"><img alt=\"연합뉴스 TV\" height=\"60\" src=\"https://imgnews.pstatic.net/image/upload/item/2016/10/20/162012054_nban02.png\" width=\"145\"/></a> <a href=\"https://news.einfomax.co.kr/\" target=\"_blank\"><img alt=\"연합인포맥스\" height=\"60\" src=\"https://imgnews.pstatic.net/image/upload/item/2016/10/20/162028043_nban03.png\" width=\"145\"/></a> <a href=\"http://www.worktv.or.kr\" target=\"_blank\"><img alt=\"한국직업방송\" height=\"60\" src=\"https://imgnews.pstatic.net/image/upload/item/2016/10/20/162057294_nban04.png\" width=\"145\"/></a> </h3>\n",
       "</div>\n",
       "<script type=\"text/javascript\">\n",
       "  window.onload = function() {\n",
       "    var selected_item = jindo.$('_');\n",
       "    if (selected_item != null) {\n",
       "      selected_item.className = \"highlight\";\n",
       "      news.section.ScrollingManager.scroll('');\n",
       "    }\n",
       "  }\n",
       "  news.section.MainIssueCollectManager.init({\n",
       "    mediaOneDomain : 'https://n.news.naver.com'\n",
       "  });\n",
       "  news.util.CommentListCountManager.view();\n",
       "</script>\n",
       "</div>"
      ]
     },
     "execution_count": 12,
     "metadata": {},
     "output_type": "execute_result"
    }
   ],
   "source": [
    "soup.find(\n",
    "    'div',\n",
    "    attrs={\n",
    "        'id' : 'main_content'\n",
    "    }\n",
    ")"
   ]
  },
  {
   "cell_type": "code",
   "execution_count": 14,
   "metadata": {},
   "outputs": [],
   "source": [
    "div_data = soup.find(\n",
    "    'div',\n",
    "    attrs={\n",
    "        'id' : 'main_content'\n",
    "    }\n",
    ")"
   ]
  },
  {
   "cell_type": "code",
   "execution_count": 15,
   "metadata": {},
   "outputs": [
    {
     "data": {
      "text/plain": [
       "<div class=\"list_body newsflash_body\">\n",
       "<div class=\"ytn_top\">\n",
       "<dl class=\"type04\">\n",
       "<dt class=\"photo\"><a href=\"https://n.news.naver.com/mnews/article/001/0014538096?sid=000000\"><img alt=\"비대면진료 확대로 이용 2배 급증했지만…현장반응은 '글쎄'\" height=\"90\" src=\"https://imgnews.pstatic.net/image/origin/001/2024/03/02/14538096.jpg?type=nf175_110\" width=\"132\"/>\n",
       "<span class=\"trans_border\"></span></a></dt>\n",
       "<dt><a class=\"nclicks(cnt_flashart)\" href=\"https://n.news.naver.com/mnews/article/001/0014538096?rc=N&amp;ntype=RANKING\">비대면진료 확대로 이용 2배 급증했지만…현장반응은 '글쎄'</a></dt>\n",
       "<dd>'정부 기대했던' 병원급 참여 없고, '의원급' 위주 급증병원들 \"한시적 허용 우려\", \"사후 청구 부담돼\"복지부는 \"상급종합병원 외래...\n",
       "            <div class=\"emphasis_info _rcount\" data-comment=\"{gno:'news001,0014538096',nclicks:'fls.cmt'}\"><span class=\"writing\">연합뉴스</span><span class=\"date\">2024.03.02</span></div>\n",
       "<ul>\n",
       "<li class=\"_rcount\" data-comment=\"{gno:'news001,0014537963',nclicks:'fls.cmt'}\">\n",
       "<a class=\"nclicks(fls.list)\" href=\"https://n.news.naver.com/mnews/article/001/0014537963?rc=N&amp;ntype=RANKING\">복귀 시한 마지막날 전공의 복귀자 271명 늘어…누적 565명</a><span class=\"writing\">연합뉴스</span><span class=\"date\">2024.03.01</span>\n",
       "</li>\n",
       "<li class=\"_rcount\" data-comment=\"{gno:'news001,0014538007',nclicks:'fls.cmt'}\">\n",
       "<a class=\"nclicks(fls.list)\" href=\"https://n.news.naver.com/mnews/article/001/0014538007?rc=N&amp;ntype=RANKING\">복지부, 전공의 13명 업무개시명령 '공고'…미복귀 처벌 초읽기</a><span class=\"writing\">연합뉴스</span><span class=\"date\">2024.03.01</span>\n",
       "</li>\n",
       "<li class=\"_rcount\" data-comment=\"{gno:'news001,0014538053',nclicks:'fls.cmt'}\">\n",
       "<a class=\"nclicks(fls.list)\" href=\"https://n.news.naver.com/mnews/article/001/0014538053?rc=N&amp;ntype=RANKING\">의협 \"저항하고 목소리 높일 것…국민에 불편 끼쳐드릴수 있다\"</a><span class=\"writing\">연합뉴스</span><span class=\"date\">2024.03.01</span>\n",
       "</li>\n",
       "</ul>\n",
       "</dd>\n",
       "</dl>\n",
       "</div>\n",
       "<ul class=\"type02\">\n",
       "<li class=\"_rcount\" data-comment=\"{gno:'news001,0014538182',nclicks:'fls.cmt'}\">\n",
       "<a class=\"nclicks(cnt_flashart)\" href=\"https://n.news.naver.com/mnews/article/001/0014538182?rc=N&amp;ntype=RANKING\"><strong>[5·18 보고서 공개] ① 사망원인 총상 81%…10대 58명 숨져</strong></a>\n",
       "<span class=\"writing\">연합뉴스</span>\n",
       "<span class=\"date\">2024.03.02. 오전 9:00</span>\n",
       "</li>\n",
       "<li class=\"_rcount\" data-comment=\"{gno:'news001,0014538197',nclicks:'fls.cmt'}\">\n",
       "<a class=\"nclicks(cnt_flashart)\" href=\"https://n.news.naver.com/mnews/article/001/0014538197?rc=N&amp;ntype=RANKING\"><strong>전국 대부분 영하권 추위…강풍에 안전사고 주의</strong></a>\n",
       "<span class=\"writing\">연합뉴스</span>\n",
       "<span class=\"date\">2024.03.02. 오전 9:19</span>\n",
       "</li>\n",
       "<li class=\"_rcount\" data-comment=\"{gno:'news001,0014538158',nclicks:'fls.cmt'}\">\n",
       "<a class=\"nclicks(cnt_flashart)\" href=\"https://n.news.naver.com/mnews/article/001/0014538158?rc=N&amp;ntype=RANKING\"><strong>작년 1인당 육류소비량 60㎏로 쌀 넘어…'최애'는 돼지고기</strong></a>\n",
       "<span class=\"writing\">연합뉴스</span>\n",
       "<span class=\"date\">2024.03.02. 오전 8:11</span>\n",
       "</li>\n",
       "<li class=\"_rcount\" data-comment=\"{gno:'news001,0014538104',nclicks:'fls.cmt'}\">\n",
       "<a class=\"nclicks(cnt_flashart)\" href=\"https://n.news.naver.com/mnews/article/001/0014538104?rc=N&amp;ntype=RANKING\"><strong>사과 안 그래도 비싼데…\"축구장 4천개 사과밭 사라진다\"</strong></a>\n",
       "<span class=\"writing\">연합뉴스</span>\n",
       "<span class=\"date\">2024.03.02. 오전 6:25</span>\n",
       "</li>\n",
       "<li class=\"_rcount\" data-comment=\"{gno:'news001,0014538154',nclicks:'fls.cmt'}\">\n",
       "<a class=\"nclicks(cnt_flashart)\" href=\"https://n.news.naver.com/mnews/article/001/0014538154?rc=N&amp;ntype=RANKING\"><strong>상여금 상위 0.1% 직장인, 한해 '보너스' 평균 6억9천만원</strong></a>\n",
       "<span class=\"writing\">연합뉴스</span>\n",
       "<span class=\"date\">2024.03.02. 오전 8:01</span>\n",
       "</li>\n",
       "<li class=\"_rcount\" data-comment=\"{gno:'news001,0014538073',nclicks:'fls.cmt'}\">\n",
       "<a class=\"nclicks(cnt_flashart)\" href=\"https://n.news.naver.com/mnews/article/001/0014538073?rc=N&amp;ntype=RANKING\"><strong>민주, 심야 최고위서 '홍영표 컷오프' 의결…동작을 류삼영 공천</strong></a>\n",
       "<span class=\"writing\">연합뉴스</span>\n",
       "<span class=\"date\">2024.03.02. 오전 1:37</span>\n",
       "</li>\n",
       "<li class=\"_rcount\" data-comment=\"{gno:'news001,0014538144',nclicks:'fls.cmt'}\">\n",
       "<a class=\"nclicks(cnt_flashart)\" href=\"https://n.news.naver.com/mnews/article/001/0014538144?rc=N&amp;ntype=RANKING\"><strong>1월 국내 수입차시장서 일본차 점유율 15%…'노재팬' 이후 최고</strong></a>\n",
       "<span class=\"writing\">연합뉴스</span>\n",
       "<span class=\"date\">2024.03.02. 오전 8:00</span>\n",
       "</li>\n",
       "<li class=\"_rcount\" data-comment=\"{gno:'news001,0014538111',nclicks:'fls.cmt'}\">\n",
       "<a class=\"nclicks(cnt_flashart)\" href=\"https://n.news.naver.com/mnews/article/001/0014538111?rc=N&amp;ntype=RANKING\"><strong>나스닥 하루만에 사상 최고치 갈아치워…AI 훈풍 타고 고공비행</strong></a>\n",
       "<span class=\"writing\">연합뉴스</span>\n",
       "<span class=\"date\">2024.03.02. 오전 6:53</span>\n",
       "</li>\n",
       "<li class=\"_rcount\" data-comment=\"{gno:'news001,0014538212',nclicks:'fls.cmt'}\">\n",
       "<a class=\"nclicks(cnt_flashart)\" href=\"https://n.news.naver.com/mnews/article/001/0014538212?rc=N&amp;ntype=RANKING\"><strong>가자지구는 무법지대…구호트럭 참변으로 '통치공백' 부각</strong></a>\n",
       "<span class=\"writing\">연합뉴스</span>\n",
       "<span class=\"date\">2024.03.02. 오전 9:41</span>\n",
       "</li>\n",
       "</ul>\n",
       "</div>"
      ]
     },
     "execution_count": 15,
     "metadata": {},
     "output_type": "execute_result"
    }
   ],
   "source": [
    "div_data2 = soup.find(\n",
    "    'div',\n",
    "    attrs = {\n",
    "        'class' : 'list_body'\n",
    "    }\n",
    ")\n",
    "div_data2"
   ]
  },
  {
   "cell_type": "code",
   "execution_count": 16,
   "metadata": {},
   "outputs": [],
   "source": [
    "# ul = 리스트"
   ]
  },
  {
   "cell_type": "code",
   "execution_count": 19,
   "metadata": {},
   "outputs": [
    {
     "data": {
      "text/plain": [
       "[<a href=\"https://n.news.naver.com/mnews/article/001/0014538096?sid=000000\"><img alt=\"비대면진료 확대로 이용 2배 급증했지만…현장반응은 '글쎄'\" height=\"90\" src=\"https://imgnews.pstatic.net/image/origin/001/2024/03/02/14538096.jpg?type=nf175_110\" width=\"132\"/>\n",
       " <span class=\"trans_border\"></span></a>,\n",
       " <a class=\"nclicks(cnt_flashart)\" href=\"https://n.news.naver.com/mnews/article/001/0014538096?rc=N&amp;ntype=RANKING\">비대면진료 확대로 이용 2배 급증했지만…현장반응은 '글쎄'</a>,\n",
       " <a class=\"nclicks(fls.list)\" href=\"https://n.news.naver.com/mnews/article/001/0014537963?rc=N&amp;ntype=RANKING\">복귀 시한 마지막날 전공의 복귀자 271명 늘어…누적 565명</a>,\n",
       " <a class=\"nclicks(fls.list)\" href=\"https://n.news.naver.com/mnews/article/001/0014538007?rc=N&amp;ntype=RANKING\">복지부, 전공의 13명 업무개시명령 '공고'…미복귀 처벌 초읽기</a>,\n",
       " <a class=\"nclicks(fls.list)\" href=\"https://n.news.naver.com/mnews/article/001/0014538053?rc=N&amp;ntype=RANKING\">의협 \"저항하고 목소리 높일 것…국민에 불편 끼쳐드릴수 있다\"</a>,\n",
       " <a class=\"nclicks(cnt_flashart)\" href=\"https://n.news.naver.com/mnews/article/001/0014538182?rc=N&amp;ntype=RANKING\"><strong>[5·18 보고서 공개] ① 사망원인 총상 81%…10대 58명 숨져</strong></a>,\n",
       " <a class=\"nclicks(cnt_flashart)\" href=\"https://n.news.naver.com/mnews/article/001/0014538197?rc=N&amp;ntype=RANKING\"><strong>전국 대부분 영하권 추위…강풍에 안전사고 주의</strong></a>,\n",
       " <a class=\"nclicks(cnt_flashart)\" href=\"https://n.news.naver.com/mnews/article/001/0014538158?rc=N&amp;ntype=RANKING\"><strong>작년 1인당 육류소비량 60㎏로 쌀 넘어…'최애'는 돼지고기</strong></a>,\n",
       " <a class=\"nclicks(cnt_flashart)\" href=\"https://n.news.naver.com/mnews/article/001/0014538104?rc=N&amp;ntype=RANKING\"><strong>사과 안 그래도 비싼데…\"축구장 4천개 사과밭 사라진다\"</strong></a>,\n",
       " <a class=\"nclicks(cnt_flashart)\" href=\"https://n.news.naver.com/mnews/article/001/0014538154?rc=N&amp;ntype=RANKING\"><strong>상여금 상위 0.1% 직장인, 한해 '보너스' 평균 6억9천만원</strong></a>,\n",
       " <a class=\"nclicks(cnt_flashart)\" href=\"https://n.news.naver.com/mnews/article/001/0014538073?rc=N&amp;ntype=RANKING\"><strong>민주, 심야 최고위서 '홍영표 컷오프' 의결…동작을 류삼영 공천</strong></a>,\n",
       " <a class=\"nclicks(cnt_flashart)\" href=\"https://n.news.naver.com/mnews/article/001/0014538144?rc=N&amp;ntype=RANKING\"><strong>1월 국내 수입차시장서 일본차 점유율 15%…'노재팬' 이후 최고</strong></a>,\n",
       " <a class=\"nclicks(cnt_flashart)\" href=\"https://n.news.naver.com/mnews/article/001/0014538111?rc=N&amp;ntype=RANKING\"><strong>나스닥 하루만에 사상 최고치 갈아치워…AI 훈풍 타고 고공비행</strong></a>,\n",
       " <a class=\"nclicks(cnt_flashart)\" href=\"https://n.news.naver.com/mnews/article/001/0014538212?rc=N&amp;ntype=RANKING\"><strong>가자지구는 무법지대…구호트럭 참변으로 '통치공백' 부각</strong></a>]"
      ]
     },
     "execution_count": 19,
     "metadata": {},
     "output_type": "execute_result"
    }
   ],
   "source": [
    "# div_data2에 있는 모든 a태그를 출력\n",
    "\n",
    "a_list = div_data2.find_all('a')\n",
    "a_list"
   ]
  },
  {
   "cell_type": "code",
   "execution_count": 20,
   "metadata": {},
   "outputs": [
    {
     "data": {
      "text/plain": [
       "14"
      ]
     },
     "execution_count": 20,
     "metadata": {},
     "output_type": "execute_result"
    }
   ],
   "source": [
    "len(a_list)"
   ]
  },
  {
   "cell_type": "code",
   "execution_count": 22,
   "metadata": {},
   "outputs": [
    {
     "data": {
      "text/plain": [
       "\"비대면진료 확대로 이용 2배 급증했지만…현장반응은 '글쎄'\""
      ]
     },
     "execution_count": 22,
     "metadata": {},
     "output_type": "execute_result"
    }
   ],
   "source": [
    "a_list[1].get_text()"
   ]
  },
  {
   "cell_type": "code",
   "execution_count": 58,
   "metadata": {},
   "outputs": [
    {
     "ename": "AttributeError",
     "evalue": "ResultSet object has no attribute 'get_text'. You're probably treating a list of elements like a single element. Did you call find_all() when you meant to call find()?",
     "output_type": "error",
     "traceback": [
      "\u001b[1;31m---------------------------------------------------------------------------\u001b[0m",
      "\u001b[1;31mAttributeError\u001b[0m                            Traceback (most recent call last)",
      "Cell \u001b[1;32mIn[58], line 1\u001b[0m\n\u001b[1;32m----> 1\u001b[0m \u001b[43ma_list\u001b[49m\u001b[38;5;241;43m.\u001b[39;49m\u001b[43mget_text\u001b[49m()\n",
      "File \u001b[1;32mc:\\Users\\EZEN\\AppData\\Local\\Programs\\Python\\Python312\\Lib\\site-packages\\bs4\\element.py:2433\u001b[0m, in \u001b[0;36mResultSet.__getattr__\u001b[1;34m(self, key)\u001b[0m\n\u001b[0;32m   2431\u001b[0m \u001b[38;5;28;01mdef\u001b[39;00m \u001b[38;5;21m__getattr__\u001b[39m(\u001b[38;5;28mself\u001b[39m, key):\n\u001b[0;32m   2432\u001b[0m \u001b[38;5;250m    \u001b[39m\u001b[38;5;124;03m\"\"\"Raise a helpful exception to explain a common code fix.\"\"\"\u001b[39;00m\n\u001b[1;32m-> 2433\u001b[0m     \u001b[38;5;28;01mraise\u001b[39;00m \u001b[38;5;167;01mAttributeError\u001b[39;00m(\n\u001b[0;32m   2434\u001b[0m         \u001b[38;5;124m\"\u001b[39m\u001b[38;5;124mResultSet object has no attribute \u001b[39m\u001b[38;5;124m'\u001b[39m\u001b[38;5;132;01m%s\u001b[39;00m\u001b[38;5;124m'\u001b[39m\u001b[38;5;124m. You\u001b[39m\u001b[38;5;124m'\u001b[39m\u001b[38;5;124mre probably treating a list of elements like a single element. Did you call find_all() when you meant to call find()?\u001b[39m\u001b[38;5;124m\"\u001b[39m \u001b[38;5;241m%\u001b[39m key\n\u001b[0;32m   2435\u001b[0m     )\n",
      "\u001b[1;31mAttributeError\u001b[0m: ResultSet object has no attribute 'get_text'. You're probably treating a list of elements like a single element. Did you call find_all() when you meant to call find()?"
     ]
    }
   ],
   "source": [
    "a_list.get_text()"
   ]
  },
  {
   "cell_type": "code",
   "execution_count": 28,
   "metadata": {},
   "outputs": [
    {
     "data": {
      "text/plain": [
       "[\"비대면진료 확대로 이용 2배 급증했지만…현장반응은 '글쎄'\",\n",
       " '복귀 시한 마지막날 전공의 복귀자 271명 늘어…누적 565명',\n",
       " \"복지부, 전공의 13명 업무개시명령 '공고'…미복귀 처벌 초읽기\",\n",
       " '의협 \"저항하고 목소리 높일 것…국민에 불편 끼쳐드릴수 있다\"',\n",
       " '[5·18 보고서 공개] ① 사망원인 총상 81%…10대 58명 숨져',\n",
       " '전국 대부분 영하권 추위…강풍에 안전사고 주의',\n",
       " \"작년 1인당 육류소비량 60㎏로 쌀 넘어…'최애'는 돼지고기\",\n",
       " '사과 안 그래도 비싼데…\"축구장 4천개 사과밭 사라진다\"',\n",
       " \"상여금 상위 0.1% 직장인, 한해 '보너스' 평균 6억9천만원\",\n",
       " \"민주, 심야 최고위서 '홍영표 컷오프' 의결…동작을 류삼영 공천\",\n",
       " \"1월 국내 수입차시장서 일본차 점유율 15%…'노재팬' 이후 최고\",\n",
       " '나스닥 하루만에 사상 최고치 갈아치워…AI 훈풍 타고 고공비행',\n",
       " \"가자지구는 무법지대…구호트럭 참변으로 '통치공백' 부각\"]"
      ]
     },
     "execution_count": 28,
     "metadata": {},
     "output_type": "execute_result"
    }
   ],
   "source": [
    "data_list = []\n",
    "\n",
    "for a in a_list:\n",
    "    # print(a.get_text())\n",
    "        #추출한 텍스트가 데이터가 존재하는 경우\n",
    "\n",
    "    if a.get_text().strip(): # strip()은 좌우 여백 없앤다. \\n (줄바꿈 의미) 이 나와서 이걸 없애기 위함.\n",
    "        data_list.append(a.get_text())\n",
    "\n",
    "data_list"
   ]
  },
  {
   "cell_type": "code",
   "execution_count": 29,
   "metadata": {},
   "outputs": [
    {
     "data": {
      "text/plain": [
       "<a class=\"nclicks(cnt_flashart)\" href=\"https://n.news.naver.com/mnews/article/001/0014538096?rc=N&amp;ntype=RANKING\">비대면진료 확대로 이용 2배 급증했지만…현장반응은 '글쎄'</a>"
      ]
     },
     "execution_count": 29,
     "metadata": {},
     "output_type": "execute_result"
    }
   ],
   "source": [
    "a_list[1]\n"
   ]
  },
  {
   "cell_type": "code",
   "execution_count": 30,
   "metadata": {},
   "outputs": [
    {
     "data": {
      "text/plain": [
       "'https://n.news.naver.com/mnews/article/001/0014538096?rc=N&ntype=RANKING'"
      ]
     },
     "execution_count": 30,
     "metadata": {},
     "output_type": "execute_result"
    }
   ],
   "source": [
    "a_list[1]['href']"
   ]
  },
  {
   "cell_type": "code",
   "execution_count": 33,
   "metadata": {},
   "outputs": [
    {
     "ename": "TypeError",
     "evalue": "'NoneType' object is not callable",
     "output_type": "error",
     "traceback": [
      "\u001b[1;31m---------------------------------------------------------------------------\u001b[0m",
      "\u001b[1;31mTypeError\u001b[0m                                 Traceback (most recent call last)",
      "Cell \u001b[1;32mIn[33], line 6\u001b[0m\n\u001b[0;32m      1\u001b[0m data_list2 \u001b[38;5;241m=\u001b[39m []\n\u001b[0;32m      3\u001b[0m \u001b[38;5;28;01mfor\u001b[39;00m a \u001b[38;5;129;01min\u001b[39;00m a_list:\n\u001b[0;32m      4\u001b[0m     \u001b[38;5;66;03m#print(a.get_text())\u001b[39;00m\n\u001b[0;32m      5\u001b[0m     \u001b[38;5;66;03m#추출한 텍스트가 데이터가 존재하는 경우\u001b[39;00m\n\u001b[1;32m----> 6\u001b[0m     \u001b[38;5;28;01mif\u001b[39;00m \u001b[43ma\u001b[49m\u001b[38;5;241;43m.\u001b[39;49m\u001b[43mget_href\u001b[49m\u001b[43m(\u001b[49m\u001b[43m)\u001b[49m:\n\u001b[0;32m      7\u001b[0m         data_list2\u001b[38;5;241m.\u001b[39mappend(a\u001b[38;5;241m.\u001b[39mget_href())\n\u001b[0;32m      9\u001b[0m data_list2\n",
      "\u001b[1;31mTypeError\u001b[0m: 'NoneType' object is not callable"
     ]
    }
   ],
   "source": [
    "data_list2 = []\n",
    "\n",
    "for a in a_list:\n",
    "    #print(a.get_text())\n",
    "    #추출한 텍스트가 데이터가 존재하는 경우\n",
    "    if a.get_href():\n",
    "        data_list2.append(a.get_href())\n",
    "\n",
    "data_list2"
   ]
  },
  {
   "cell_type": "code",
   "execution_count": 34,
   "metadata": {},
   "outputs": [
    {
     "data": {
      "text/plain": [
       "['https://n.news.naver.com/mnews/article/001/0014538096?sid=000000',\n",
       " 'https://n.news.naver.com/mnews/article/001/0014538096?rc=N&ntype=RANKING',\n",
       " 'https://n.news.naver.com/mnews/article/001/0014537963?rc=N&ntype=RANKING',\n",
       " 'https://n.news.naver.com/mnews/article/001/0014538007?rc=N&ntype=RANKING',\n",
       " 'https://n.news.naver.com/mnews/article/001/0014538053?rc=N&ntype=RANKING',\n",
       " 'https://n.news.naver.com/mnews/article/001/0014538182?rc=N&ntype=RANKING',\n",
       " 'https://n.news.naver.com/mnews/article/001/0014538197?rc=N&ntype=RANKING',\n",
       " 'https://n.news.naver.com/mnews/article/001/0014538158?rc=N&ntype=RANKING',\n",
       " 'https://n.news.naver.com/mnews/article/001/0014538104?rc=N&ntype=RANKING',\n",
       " 'https://n.news.naver.com/mnews/article/001/0014538154?rc=N&ntype=RANKING',\n",
       " 'https://n.news.naver.com/mnews/article/001/0014538073?rc=N&ntype=RANKING',\n",
       " 'https://n.news.naver.com/mnews/article/001/0014538144?rc=N&ntype=RANKING',\n",
       " 'https://n.news.naver.com/mnews/article/001/0014538111?rc=N&ntype=RANKING',\n",
       " 'https://n.news.naver.com/mnews/article/001/0014538212?rc=N&ntype=RANKING']"
      ]
     },
     "execution_count": 34,
     "metadata": {},
     "output_type": "execute_result"
    }
   ],
   "source": [
    "link_list = []\n",
    "\n",
    "for a in a_list:\n",
    "    link_list.append(a['href'])\n",
    "link_list"
   ]
  },
  {
   "cell_type": "code",
   "execution_count": null,
   "metadata": {},
   "outputs": [],
   "source": [
    "# url 속 물음표가 의미하는 것은? 경계\n",
    "# ?는 해당하는 주소로 보내줄 데이터다~\n",
    "# split을 쓰면 문자열을 리스트로 바꿔준다. 리스트 중 첫 번째 데이터만 취하는 방식으로."
   ]
  },
  {
   "cell_type": "code",
   "execution_count": 40,
   "metadata": {},
   "outputs": [
    {
     "data": {
      "text/plain": [
       "['https://n.news.naver.com/mnews/article/001/0014538096',\n",
       " 'https://n.news.naver.com/mnews/article/001/0014538096',\n",
       " 'https://n.news.naver.com/mnews/article/001/0014537963',\n",
       " 'https://n.news.naver.com/mnews/article/001/0014538007',\n",
       " 'https://n.news.naver.com/mnews/article/001/0014538053',\n",
       " 'https://n.news.naver.com/mnews/article/001/0014538182',\n",
       " 'https://n.news.naver.com/mnews/article/001/0014538197',\n",
       " 'https://n.news.naver.com/mnews/article/001/0014538158',\n",
       " 'https://n.news.naver.com/mnews/article/001/0014538104',\n",
       " 'https://n.news.naver.com/mnews/article/001/0014538154',\n",
       " 'https://n.news.naver.com/mnews/article/001/0014538073',\n",
       " 'https://n.news.naver.com/mnews/article/001/0014538144',\n",
       " 'https://n.news.naver.com/mnews/article/001/0014538111',\n",
       " 'https://n.news.naver.com/mnews/article/001/0014538212']"
      ]
     },
     "execution_count": 40,
     "metadata": {},
     "output_type": "execute_result"
    }
   ],
   "source": [
    "link_list = []\n",
    "\n",
    "for a in a_list:\n",
    "    # link_list.append(a['href'])\n",
    "    link_data = a['href']\n",
    "    # 주소에서 ? 전까지 텍스트를 확인\n",
    "    index = link_data.find(\"?\") \n",
    "    data = link_data[:index]\n",
    "    link_list.append(data)\n",
    "link_list"
   ]
  },
  {
   "cell_type": "code",
   "execution_count": 51,
   "metadata": {},
   "outputs": [
    {
     "data": {
      "text/plain": [
       "['https://n.news.naver.com/mnews/article/001/0014538096',\n",
       " 'https://n.news.naver.com/mnews/article/001/0014537963',\n",
       " 'https://n.news.naver.com/mnews/article/001/0014538007',\n",
       " 'https://n.news.naver.com/mnews/article/001/0014538053',\n",
       " 'https://n.news.naver.com/mnews/article/001/0014538182',\n",
       " 'https://n.news.naver.com/mnews/article/001/0014538197',\n",
       " 'https://n.news.naver.com/mnews/article/001/0014538158',\n",
       " 'https://n.news.naver.com/mnews/article/001/0014538104',\n",
       " 'https://n.news.naver.com/mnews/article/001/0014538154',\n",
       " 'https://n.news.naver.com/mnews/article/001/0014538073',\n",
       " 'https://n.news.naver.com/mnews/article/001/0014538144',\n",
       " 'https://n.news.naver.com/mnews/article/001/0014538111',\n",
       " 'https://n.news.naver.com/mnews/article/001/0014538212']"
      ]
     },
     "execution_count": 51,
     "metadata": {},
     "output_type": "execute_result"
    }
   ],
   "source": [
    "link_list = []\n",
    "\n",
    "for a in a_list:\n",
    "    # link_list.append(a['href'])\n",
    "    link_data = a['href']\n",
    "    # 주소에서 ? 전까지 텍스트를 확인\n",
    "    index = link_data.find(\"?\") \n",
    "    data = link_data[:index]\n",
    "    # \"link_list에 data가 포함되어 있지 않다면\" 구문을 추가해서 중복 데이터 삭제\n",
    "    if data not in link_list:\n",
    "        link_list.append(data)\n",
    "link_list"
   ]
  },
  {
   "cell_type": "code",
   "execution_count": 54,
   "metadata": {},
   "outputs": [
    {
     "data": {
      "text/plain": [
       "13"
      ]
     },
     "execution_count": 54,
     "metadata": {},
     "output_type": "execute_result"
    }
   ],
   "source": [
    "\n",
    "len(data_list)"
   ]
  },
  {
   "cell_type": "code",
   "execution_count": 55,
   "metadata": {},
   "outputs": [
    {
     "data": {
      "text/plain": [
       "{'헤드라인': [\"비대면진료 확대로 이용 2배 급증했지만…현장반응은 '글쎄'\",\n",
       "  '복귀 시한 마지막날 전공의 복귀자 271명 늘어…누적 565명',\n",
       "  \"복지부, 전공의 13명 업무개시명령 '공고'…미복귀 처벌 초읽기\",\n",
       "  '의협 \"저항하고 목소리 높일 것…국민에 불편 끼쳐드릴수 있다\"',\n",
       "  '[5·18 보고서 공개] ① 사망원인 총상 81%…10대 58명 숨져',\n",
       "  '전국 대부분 영하권 추위…강풍에 안전사고 주의',\n",
       "  \"작년 1인당 육류소비량 60㎏로 쌀 넘어…'최애'는 돼지고기\",\n",
       "  '사과 안 그래도 비싼데…\"축구장 4천개 사과밭 사라진다\"',\n",
       "  \"상여금 상위 0.1% 직장인, 한해 '보너스' 평균 6억9천만원\",\n",
       "  \"민주, 심야 최고위서 '홍영표 컷오프' 의결…동작을 류삼영 공천\",\n",
       "  \"1월 국내 수입차시장서 일본차 점유율 15%…'노재팬' 이후 최고\",\n",
       "  '나스닥 하루만에 사상 최고치 갈아치워…AI 훈풍 타고 고공비행',\n",
       "  \"가자지구는 무법지대…구호트럭 참변으로 '통치공백' 부각\"],\n",
       " '주소': ['https://n.news.naver.com/mnews/article/001/0014538096',\n",
       "  'https://n.news.naver.com/mnews/article/001/0014537963',\n",
       "  'https://n.news.naver.com/mnews/article/001/0014538007',\n",
       "  'https://n.news.naver.com/mnews/article/001/0014538053',\n",
       "  'https://n.news.naver.com/mnews/article/001/0014538182',\n",
       "  'https://n.news.naver.com/mnews/article/001/0014538197',\n",
       "  'https://n.news.naver.com/mnews/article/001/0014538158',\n",
       "  'https://n.news.naver.com/mnews/article/001/0014538104',\n",
       "  'https://n.news.naver.com/mnews/article/001/0014538154',\n",
       "  'https://n.news.naver.com/mnews/article/001/0014538073',\n",
       "  'https://n.news.naver.com/mnews/article/001/0014538144',\n",
       "  'https://n.news.naver.com/mnews/article/001/0014538111',\n",
       "  'https://n.news.naver.com/mnews/article/001/0014538212']}"
      ]
     },
     "execution_count": 55,
     "metadata": {},
     "output_type": "execute_result"
    }
   ],
   "source": [
    "df_data = {\n",
    "    '헤드라인' : data_list,\n",
    "    '주소' : link_list\n",
    "}\n",
    "df_data"
   ]
  },
  {
   "cell_type": "code",
   "execution_count": 56,
   "metadata": {},
   "outputs": [
    {
     "data": {
      "text/html": [
       "<div>\n",
       "<style scoped>\n",
       "    .dataframe tbody tr th:only-of-type {\n",
       "        vertical-align: middle;\n",
       "    }\n",
       "\n",
       "    .dataframe tbody tr th {\n",
       "        vertical-align: top;\n",
       "    }\n",
       "\n",
       "    .dataframe thead th {\n",
       "        text-align: right;\n",
       "    }\n",
       "</style>\n",
       "<table border=\"1\" class=\"dataframe\">\n",
       "  <thead>\n",
       "    <tr style=\"text-align: right;\">\n",
       "      <th></th>\n",
       "      <th>헤드라인</th>\n",
       "      <th>주소</th>\n",
       "    </tr>\n",
       "  </thead>\n",
       "  <tbody>\n",
       "    <tr>\n",
       "      <th>0</th>\n",
       "      <td>비대면진료 확대로 이용 2배 급증했지만…현장반응은 '글쎄'</td>\n",
       "      <td>https://n.news.naver.com/mnews/article/001/001...</td>\n",
       "    </tr>\n",
       "    <tr>\n",
       "      <th>1</th>\n",
       "      <td>복귀 시한 마지막날 전공의 복귀자 271명 늘어…누적 565명</td>\n",
       "      <td>https://n.news.naver.com/mnews/article/001/001...</td>\n",
       "    </tr>\n",
       "    <tr>\n",
       "      <th>2</th>\n",
       "      <td>복지부, 전공의 13명 업무개시명령 '공고'…미복귀 처벌 초읽기</td>\n",
       "      <td>https://n.news.naver.com/mnews/article/001/001...</td>\n",
       "    </tr>\n",
       "    <tr>\n",
       "      <th>3</th>\n",
       "      <td>의협 \"저항하고 목소리 높일 것…국민에 불편 끼쳐드릴수 있다\"</td>\n",
       "      <td>https://n.news.naver.com/mnews/article/001/001...</td>\n",
       "    </tr>\n",
       "    <tr>\n",
       "      <th>4</th>\n",
       "      <td>[5·18 보고서 공개] ① 사망원인 총상 81%…10대 58명 숨져</td>\n",
       "      <td>https://n.news.naver.com/mnews/article/001/001...</td>\n",
       "    </tr>\n",
       "    <tr>\n",
       "      <th>5</th>\n",
       "      <td>전국 대부분 영하권 추위…강풍에 안전사고 주의</td>\n",
       "      <td>https://n.news.naver.com/mnews/article/001/001...</td>\n",
       "    </tr>\n",
       "    <tr>\n",
       "      <th>6</th>\n",
       "      <td>작년 1인당 육류소비량 60㎏로 쌀 넘어…'최애'는 돼지고기</td>\n",
       "      <td>https://n.news.naver.com/mnews/article/001/001...</td>\n",
       "    </tr>\n",
       "    <tr>\n",
       "      <th>7</th>\n",
       "      <td>사과 안 그래도 비싼데…\"축구장 4천개 사과밭 사라진다\"</td>\n",
       "      <td>https://n.news.naver.com/mnews/article/001/001...</td>\n",
       "    </tr>\n",
       "    <tr>\n",
       "      <th>8</th>\n",
       "      <td>상여금 상위 0.1% 직장인, 한해 '보너스' 평균 6억9천만원</td>\n",
       "      <td>https://n.news.naver.com/mnews/article/001/001...</td>\n",
       "    </tr>\n",
       "    <tr>\n",
       "      <th>9</th>\n",
       "      <td>민주, 심야 최고위서 '홍영표 컷오프' 의결…동작을 류삼영 공천</td>\n",
       "      <td>https://n.news.naver.com/mnews/article/001/001...</td>\n",
       "    </tr>\n",
       "    <tr>\n",
       "      <th>10</th>\n",
       "      <td>1월 국내 수입차시장서 일본차 점유율 15%…'노재팬' 이후 최고</td>\n",
       "      <td>https://n.news.naver.com/mnews/article/001/001...</td>\n",
       "    </tr>\n",
       "    <tr>\n",
       "      <th>11</th>\n",
       "      <td>나스닥 하루만에 사상 최고치 갈아치워…AI 훈풍 타고 고공비행</td>\n",
       "      <td>https://n.news.naver.com/mnews/article/001/001...</td>\n",
       "    </tr>\n",
       "    <tr>\n",
       "      <th>12</th>\n",
       "      <td>가자지구는 무법지대…구호트럭 참변으로 '통치공백' 부각</td>\n",
       "      <td>https://n.news.naver.com/mnews/article/001/001...</td>\n",
       "    </tr>\n",
       "  </tbody>\n",
       "</table>\n",
       "</div>"
      ],
      "text/plain": [
       "                                      헤드라인  \\\n",
       "0         비대면진료 확대로 이용 2배 급증했지만…현장반응은 '글쎄'   \n",
       "1       복귀 시한 마지막날 전공의 복귀자 271명 늘어…누적 565명   \n",
       "2      복지부, 전공의 13명 업무개시명령 '공고'…미복귀 처벌 초읽기   \n",
       "3       의협 \"저항하고 목소리 높일 것…국민에 불편 끼쳐드릴수 있다\"   \n",
       "4   [5·18 보고서 공개] ① 사망원인 총상 81%…10대 58명 숨져   \n",
       "5                전국 대부분 영하권 추위…강풍에 안전사고 주의   \n",
       "6        작년 1인당 육류소비량 60㎏로 쌀 넘어…'최애'는 돼지고기   \n",
       "7          사과 안 그래도 비싼데…\"축구장 4천개 사과밭 사라진다\"   \n",
       "8      상여금 상위 0.1% 직장인, 한해 '보너스' 평균 6억9천만원   \n",
       "9      민주, 심야 최고위서 '홍영표 컷오프' 의결…동작을 류삼영 공천   \n",
       "10    1월 국내 수입차시장서 일본차 점유율 15%…'노재팬' 이후 최고   \n",
       "11      나스닥 하루만에 사상 최고치 갈아치워…AI 훈풍 타고 고공비행   \n",
       "12          가자지구는 무법지대…구호트럭 참변으로 '통치공백' 부각   \n",
       "\n",
       "                                                   주소  \n",
       "0   https://n.news.naver.com/mnews/article/001/001...  \n",
       "1   https://n.news.naver.com/mnews/article/001/001...  \n",
       "2   https://n.news.naver.com/mnews/article/001/001...  \n",
       "3   https://n.news.naver.com/mnews/article/001/001...  \n",
       "4   https://n.news.naver.com/mnews/article/001/001...  \n",
       "5   https://n.news.naver.com/mnews/article/001/001...  \n",
       "6   https://n.news.naver.com/mnews/article/001/001...  \n",
       "7   https://n.news.naver.com/mnews/article/001/001...  \n",
       "8   https://n.news.naver.com/mnews/article/001/001...  \n",
       "9   https://n.news.naver.com/mnews/article/001/001...  \n",
       "10  https://n.news.naver.com/mnews/article/001/001...  \n",
       "11  https://n.news.naver.com/mnews/article/001/001...  \n",
       "12  https://n.news.naver.com/mnews/article/001/001...  "
      ]
     },
     "execution_count": 56,
     "metadata": {},
     "output_type": "execute_result"
    }
   ],
   "source": [
    "df = pd.DataFrame(df_data)\n",
    "df"
   ]
  },
  {
   "cell_type": "code",
   "execution_count": 57,
   "metadata": {},
   "outputs": [],
   "source": [
    "# 데이터프레임을 excel로 저장\n",
    "df.to_excel('네이버 연합뉴스.xlsx', index=False)"
   ]
  },
  {
   "cell_type": "markdown",
   "metadata": {},
   "source": [
    "맥 사용자는 뒤에 py 안 만들고 확장자 하나 만들어준다.\n",
    "\n",
    "첫줄에 : #!/bin/bash 입력\n",
    "PYTHON\n",
    "\n"
   ]
  },
  {
   "cell_type": "code",
   "execution_count": null,
   "metadata": {},
   "outputs": [],
   "source": []
  }
 ],
 "metadata": {
  "kernelspec": {
   "display_name": "Python 3",
   "language": "python",
   "name": "python3"
  },
  "language_info": {
   "codemirror_mode": {
    "name": "ipython",
    "version": 3
   },
   "file_extension": ".py",
   "mimetype": "text/x-python",
   "name": "python",
   "nbconvert_exporter": "python",
   "pygments_lexer": "ipython3",
   "version": "3.12.1"
  }
 },
 "nbformat": 4,
 "nbformat_minor": 2
}
