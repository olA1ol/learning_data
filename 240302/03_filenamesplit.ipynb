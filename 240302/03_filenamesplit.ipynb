{
 "cells": [
  {
   "cell_type": "code",
   "execution_count": 1,
   "metadata": {},
   "outputs": [],
   "source": [
    "import os\n",
    "from glob import glob"
   ]
  },
  {
   "cell_type": "code",
   "execution_count": 6,
   "metadata": {},
   "outputs": [],
   "source": [
    "csv_files = glob(\"../data/csv/*.csv\")"
   ]
  },
  {
   "cell_type": "code",
   "execution_count": 10,
   "metadata": {},
   "outputs": [
    {
     "data": {
      "text/plain": [
       "['2014.csv',\n",
       " '2017',\n",
       " '2018',\n",
       " '2019',\n",
       " '2020',\n",
       " '2021',\n",
       " '2022',\n",
       " 'AAPL.csv',\n",
       " 'AMZN.csv',\n",
       " 'BND.csv',\n",
       " 'campaign_master.csv',\n",
       " 'class_master.csv',\n",
       " 'corona.csv',\n",
       " 'csv_exam.csv',\n",
       " 'customer_master.csv',\n",
       " 'dept.csv',\n",
       " 'drinks.csv',\n",
       " 'emp.csv',\n",
       " 'example.csv',\n",
       " 'GDX.csv',\n",
       " 'GLD.csv',\n",
       " 'GM.csv',\n",
       " 'item_master.csv',\n",
       " 'Koweps_Codebook.xlsx',\n",
       " 'MSFT.csv',\n",
       " 'num_1',\n",
       " 'num_2',\n",
       " 'num_3',\n",
       " 'Sales Records.csv',\n",
       " 'SLV.csv',\n",
       " 'SPY.csv',\n",
       " 'tran_1.csv',\n",
       " 'tran_2.csv',\n",
       " 'tran_d_1.csv',\n",
       " 'tran_d_2.csv',\n",
       " 'uriage.csv',\n",
       " 'use_log.csv',\n",
       " 'USM.csv',\n",
       " '주민등록.csv']"
      ]
     },
     "execution_count": 10,
     "metadata": {},
     "output_type": "execute_result"
    }
   ],
   "source": [
    "os.listdir(\"../data/csv/\")"
   ]
  },
  {
   "cell_type": "code",
   "execution_count": 18,
   "metadata": {},
   "outputs": [
    {
     "name": "stdout",
     "output_type": "stream",
     "text": [
      "2014\n",
      "AAPL\n",
      "AMZN\n",
      "BND\n",
      "campaign_master\n",
      "class_master\n",
      "corona\n",
      "csv_exam\n",
      "customer_master\n",
      "dept\n",
      "drinks\n",
      "emp\n",
      "example\n",
      "GDX\n",
      "GLD\n",
      "GM\n",
      "item_master\n",
      "MSFT\n",
      "Sales Records\n",
      "SLV\n",
      "SPY\n",
      "tran_1\n",
      "tran_2\n",
      "tran_d_1\n",
      "tran_d_2\n",
      "uriage\n",
      "use_log\n",
      "USM\n",
      "주민등록\n"
     ]
    }
   ],
   "source": [
    "file_list = []\n",
    "# 경로와 파일을 나눠준다.\n",
    "for file in csv_files:\n",
    "    # print(file)\n",
    "    # 경로와 파일을 나눠준다.\n",
    "    folder, full_name = os.path.split(file)\n",
    "    # print(full_name) #파일 이름만 추출하려면 split 이용해도 되는데, 함수가 있다.\n",
    "    #파일의 이름과 확장자를 나눠준다.\n",
    "    name, end = os.path.splitext(full_name)\n",
    "    # print(name, \"-----\", end)\n",
    "    print(name)\n",
    "    # 파일 이름에서 특정 문자가 포함되어 있는 경우\n",
    "    if 'e' in name:\n",
    "        file_list.append(name)"
   ]
  },
  {
   "cell_type": "code",
   "execution_count": 17,
   "metadata": {},
   "outputs": [
    {
     "data": {
      "text/plain": [
       "['campaign_master',\n",
       " 'class_master',\n",
       " 'csv_exam',\n",
       " 'customer_master',\n",
       " 'dept',\n",
       " 'emp',\n",
       " 'example',\n",
       " 'item_master',\n",
       " 'Sales Records',\n",
       " 'uriage',\n",
       " 'use_log']"
      ]
     },
     "execution_count": 17,
     "metadata": {},
     "output_type": "execute_result"
    }
   ],
   "source": [
    "file_list"
   ]
  },
  {
   "cell_type": "code",
   "execution_count": null,
   "metadata": {},
   "outputs": [],
   "source": []
  }
 ],
 "metadata": {
  "kernelspec": {
   "display_name": "Python 3",
   "language": "python",
   "name": "python3"
  },
  "language_info": {
   "codemirror_mode": {
    "name": "ipython",
    "version": 3
   },
   "file_extension": ".py",
   "mimetype": "text/x-python",
   "name": "python",
   "nbconvert_exporter": "python",
   "pygments_lexer": "ipython3",
   "version": "3.12.1"
  }
 },
 "nbformat": 4,
 "nbformat_minor": 2
}
