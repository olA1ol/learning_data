{
 "cells": [
  {
   "cell_type": "code",
   "execution_count": 1,
   "metadata": {},
   "outputs": [],
   "source": [
    "from selenium import webdriver"
   ]
  },
  {
   "cell_type": "code",
   "execution_count": 2,
   "metadata": {},
   "outputs": [],
   "source": [
    "driver = webdriver.Chrome()"
   ]
  },
  {
   "cell_type": "code",
   "execution_count": 3,
   "metadata": {},
   "outputs": [],
   "source": [
    "driver.get('https://www.amazon.com/SAMSUNG-Android-Speakers-Upgraded-Graphite/product-reviews/B0CLF3VPMV/ref=cm_cr_dp_d_show_all_btm?ie=UTF8&reviewerType=all_reviews')"
   ]
  },
  {
   "cell_type": "code",
   "execution_count": 4,
   "metadata": {},
   "outputs": [],
   "source": [
    "from selenium.webdriver.common.by import By\n",
    "from selenium.webdriver.common.keys import Keys"
   ]
  },
  {
   "cell_type": "code",
   "execution_count": 5,
   "metadata": {},
   "outputs": [
    {
     "data": {
      "text/plain": [
       "0"
      ]
     },
     "execution_count": 5,
     "metadata": {},
     "output_type": "execute_result"
    }
   ],
   "source": [
    "len(driver.find_elements(By.CLASS_NAME, 'cm_cr-review_list'))"
   ]
  },
  {
   "cell_type": "code",
   "execution_count": 8,
   "metadata": {},
   "outputs": [],
   "source": [
    "review_list = driver.find_element(By.XPATH, '//*[@id=\"customer_review-RPA4U00SJ1MNU\"]/div[4]/span') "
   ]
  },
  {
   "cell_type": "code",
   "execution_count": 9,
   "metadata": {},
   "outputs": [
    {
     "data": {
      "text/plain": [
       "<selenium.webdriver.remote.webelement.WebElement (session=\"aa905fbbda529ff6335d62fd79ba580e\", element=\"f.6C36DF9C4C27F7227BC07F72B2A81986.d.73CF2B849CF4E5D308ABAF8BC30F37B9.e.50\")>"
      ]
     },
     "execution_count": 9,
     "metadata": {},
     "output_type": "execute_result"
    }
   ],
   "source": [
    "review_list"
   ]
  },
  {
   "cell_type": "code",
   "execution_count": 11,
   "metadata": {},
   "outputs": [],
   "source": [
    "from bs4 import BeautifulSoup as bs"
   ]
  },
  {
   "cell_type": "code",
   "execution_count": 12,
   "metadata": {},
   "outputs": [],
   "source": [
    "soup = bs(driver.page_source, 'html.parser')"
   ]
  },
  {
   "cell_type": "code",
   "execution_count": 24,
   "metadata": {},
   "outputs": [
    {
     "data": {
      "text/plain": [
       "[]"
      ]
     },
     "execution_count": 24,
     "metadata": {},
     "output_type": "execute_result"
    }
   ],
   "source": [
    "soup.find_all('review-body')"
   ]
  },
  {
   "cell_type": "code",
   "execution_count": 30,
   "metadata": {},
   "outputs": [],
   "source": [
    "div_data = soup.find_all(\n",
    "    \"span\",\n",
    "    attrs = {\n",
    "        # 'class' : 'a-size-base review-text review-text-content'\n",
    "        'data-hook' : 'review-body'\n",
    "    }\n",
    ")"
   ]
  },
  {
   "cell_type": "code",
   "execution_count": 33,
   "metadata": {},
   "outputs": [
    {
     "data": {
      "text/plain": [
       "10"
      ]
     },
     "execution_count": 33,
     "metadata": {},
     "output_type": "execute_result"
    }
   ],
   "source": [
    "len(div_data)"
   ]
  },
  {
   "cell_type": "code",
   "execution_count": 38,
   "metadata": {},
   "outputs": [
    {
     "data": {
      "text/plain": [
       "'\\nMy recently purchased Samsung Galaxy Tablet works great! I am always a Samsung Galaxy fan! have been using different generations of Samsung Galaxy phones and Tablets for years!What I love about this tablet is its ease of use and smooth/powerful performance. Smart, sleek, and fantastic audio and video quality!So far I am very satisfied with the purchase! Thanks to Amazon for their quick and efficient shipping options!\\n'"
      ]
     },
     "execution_count": 38,
     "metadata": {},
     "output_type": "execute_result"
    }
   ],
   "source": [
    "div_data[0].get_text()"
   ]
  },
  {
   "cell_type": "code",
   "execution_count": 43,
   "metadata": {},
   "outputs": [],
   "source": [
    "review_data = []\n",
    "for i in div_data:\n",
    "    # print(i.get_text().strip())\n",
    "    review_data.append(i.get_text().strip())"
   ]
  },
  {
   "cell_type": "code",
   "execution_count": 44,
   "metadata": {},
   "outputs": [
    {
     "data": {
      "text/plain": [
       "['My recently purchased Samsung Galaxy Tablet works great! I am always a Samsung Galaxy fan! have been using different generations of Samsung Galaxy phones and Tablets for years!What I love about this tablet is its ease of use and smooth/powerful performance. Smart, sleek, and fantastic audio and video quality!So far I am very satisfied with the purchase! Thanks to Amazon for their quick and efficient shipping options!',\n",
       " \"I have had the A9+ now for 10 days so I have got a good feel for it and as far as tablets under $250 this will be tough to beat. I love the big screen that comes with it. It's great for Netflix and YouTube or anything else like that. You don't get 4K with this tablet but 1080 is more than good enough. You get great audio and the battery life is exceptional. On a full charge you get 2 days of use and thats with me heavily using it. I recommend getting the 128 gb version of this tablet given its a tremendous value. If you are use to using a laptop or a PC this tablet comes equipped with Samsung Dex which gives you that same look and feel so that's a big plus. Overall it's a really good tablet for the price that comes with a lot of bells and whistles you see with a expensive tablet. I highly recommend!\",\n",
       " \"I upgraded from a Galaxy A8 and loving this tablet, except for the current software bug effecting these A9 models. There is an issue with the multi-point touch such as when pinch zooming or playing a game that involves 2 fingers touching at the same time. It is very glitchy. You kinda have to finesse the pinch zoom with a light touch and it will work. If you don't play games and aren't constantly using the pinch zoom function which most probably aren't, you will hardly notice the issue. Though if you play games involving multi-touch, this will be a problem for you. Strangely though, if you plug corded headphones into the jack, the problem stops, really weird. It does seem to just be a software bug though and Samsung should be able to fix the problem with an update patch. Unfortunately little problems like this are just part of the technological world we live in now and occasionally happens to the devices we use and they need to be updated. Other than that though... This tablet feels nice and light, runs fast and smooth with the upgraded processor and increased 8GB of RAM on the A9+ model, and the screen has a beautiful bright picture with nice deep and vibrant colors. I did a side by side HD video comparison with my A8 and the picture on the A9 is quite a noticeable improvement. And I see people saying that there's didn't come with a charger as if it's a mistake. It is not a mistake, Samsung doesn't send chargers with their products anymore. They say it's to minimize their impact on the environment or whatever, and also because I think they know most people have plenty of charging blocks and USB C cables laying around at this point being that so many products use them now, and if you don't you can buy one very cheap. With all that said, if you can deal with the current multi-touch problem until it's fixed, I highly recommend getting this tablet as everything else about it is great!\",\n",
       " 'Excellent value. Setup via wifi to my phone was as easy as it gets. I can use it as a smartphone if my phone is nearby. Battery life seems very good. Great audio. Basically a great smartphone with a large screen.',\n",
       " 'My husband has the earlier version of this tablet. I would walk by and see him enjoying using it. That said, I really wanted it for music and solitaire and reading the news with these older eyes and just surfing for stuff. Got it, loaded it up ( took a while)and after 2 days of use, asked myself....\" what took you so long to get one\"? Its wonderful. The sound quality is amazing and the screen quality.....perfect. Went back for a really pretty girlie case to have it sit on my lap. Who needs a \" apple\"? Not me. Thank you !!!!',\n",
       " \"Looked at plenty of reviews and prices on different tablets. Came across this tablet and decided to try it out. This tablet is like a bigger version of a Samsung phone. Quality picture and great sound to match. I really enjoy this tablet's speed, it is amazing just like my Samsung phone. This tablet is worth buying and the price is not as steep as other tablets I looked at.\",\n",
       " \"I purchased the Samsung Galaxy A9+ 8/128 model and inputted a 128 GB Samsung SD card and am able to offset app space and downloads right to the card to conserve space. I have had the tablet for a week and have no speed or input issues, and visually the tablet itself is sleek. I am using for work and have had no productivity issues sharing service and apps between my ZFold 3. I recommend purchase, I shopped around for two months and am happy with my choice. Will provide update in 6 months but anticipate no issues. Battery lasts roughly 32 hours on full charge with mid to full use each day. I am happy with that. Fast charging is complete in 1.5 hour's from 5%. Regardless, research anyway and make the best choice for you.\",\n",
       " \"Based on other reviews I probably got a lemon. The screen is split in brightness. The top half is darker than the bottom (horizontal mode). If you tilt it vertically it will be the left half that's darker.It is slow to boot up and some apps take much longer than they should.The tablet is nice Samsung quality and style, but that spit screen ruins everything and AMAZON WILL NOT REPLACE IT. They said my only option is to substitute for other items that add up to the value of this tablet. WHY CAN'T I JUST GET A REPLACEMENT????Amazon you fail in this part. Your guarantee is worthless if we can not get the same item and have to buy a bunch of other junk we may not need just to recover the cost!!!!!\",\n",
       " 'This tablet has been doing very well for me. There is a transfer program built in that helps you step by step move your data from your old Samsung Galaxy Tab to this new one. The processor is very good, there is a plentiful amount of RAM, and there still are ports you can plug into.  I got the \"HXCASEAC Case for Samsung Galaxy Tab A9+/ A9 Plus Case 11 Inch\", and it is also the second time I\\'ve bought this case. Protective rubber, and a built in screen protector. Shamefully I was upgrading from a Tab 7, and probably wouldn\\'t have done that if the batteries hadn\\'t swollen and gotten hot. But back to this tablet. If you\\'ve had a Tab before, worry not, here things just got better. The colors, the feels, it\\'s all there. I purchased a 1TB MicroSD card and it has a home in this Tab 9+. Beyond that I\\'m not sure what I can say about this Tab, oh yeah, it\\'s from Samsung so it\\'s full of Samsung goodness.',\n",
       " 'I bought 2 tab from this seller the first one was brand new and saw how good it was I order a 2nd one for my niece the second one i got it was not brand new it had the sticker when you give a second chance an item I know and i remember well I order a new one not a used one I dont mind this but please state what one is ordering because i paid for a brand new item and it came in a bag']"
      ]
     },
     "execution_count": 44,
     "metadata": {},
     "output_type": "execute_result"
    }
   ],
   "source": [
    "review_data"
   ]
  },
  {
   "cell_type": "code",
   "execution_count": 45,
   "metadata": {},
   "outputs": [],
   "source": [
    "a_link = driver.find_element(By.CLASS_NAME, 'a-last')"
   ]
  },
  {
   "cell_type": "code",
   "execution_count": 46,
   "metadata": {},
   "outputs": [],
   "source": [
    "a_link.click()"
   ]
  },
  {
   "cell_type": "code",
   "execution_count": 49,
   "metadata": {},
   "outputs": [
    {
     "data": {
      "text/plain": [
       "[\"I was promised a case with this product to no avail I called Amazon and they took 10% off my purchased however now the tablet is selling for a great deal lower than what I paid for it terrible advertising the sound is very good with this tablet however the charging takes a very long time the battery life is mediocre I would return the product to get to get the product $50 cheaper but I don't want to go through all the trouble beware it does not come with a case that's the reason why I purchased it that and the sound quality\",\n",
       " \"I really like this tablet. It's fast, the screen is big and clear. Also, since I have a Samsung phone, it quickly moved all of my apps over to the tablet. The sound also is really good. I purchased it to mainly watch movies, and stream shows from my apps. So the clarity is good, the sound is good. Surfing the internet with Wi-Fi has been quick also. Quality and price cannot be beat.\",\n",
       " \"I've always had the best Galaxy tablets, the S series. Thought I'd try A series. Verdict: not quite as quick or sharp as S but overall satisfactory.What you'll notice most: a little hesitation and jerkiness when you pinch or expand screen size with your fingers. Works better when you resize a little slower and smoother.\",\n",
       " \"I bought so that I could use Smart View to Cast Dribbleup on to my Roku TV.  I tried lower versions but they either didn't have a high enough Android OS (original (not updated) 12+ which messes up the dribbleup sound) or they didn't have SmartView software to wirelessly cast.  I bought/returned about 3 samsungs before I found a good one and I didn't want a phone version just because it would have been too small without the TV.  So this worked.  The only thing is that I have to search for smartview when I'm in settings, I can't just scroll down to it like I'd like to.\",\n",
       " \"I've only had the tablet for a little over a week,  but love it so far.  I wanted something smaller than the laptop for traveling and it's perfect.  I was able to get  all my apps loaded. My kindle app has all my books.  I can manage my bills on this, I can listen to music or even watch a movie.  It's lightweight,  after charging it the first time I didn't have to charge it again for 9 days.  So far it's great.\",\n",
       " \"This tablet is really big and runs smooth. I have zero complaints, the camera isn't the best of the best but who buys a tablet for the camera. The performance, battery life, screen resolution are top notch. You won't be disappointed.I want to mention though that this is a Wi-Fi only version of the tab A9 Plus so you can't use a physical SIM card nor an e Sim.\",\n",
       " \"It's okay if you're just using it to tinker around on. Battery isn't all that great. I was on it for an hour and a half starting from 100% and it is now 78%. My phone last longer than that. I like Samsung, that's what my phone is, I just think they could have done better with this. I think the price is a little to high for a 2023 and no more than what it is.\",\n",
       " \"I love everything about this except that even with the screen at full sensitivity it does not work. It shows it is being clicked on but even after a minute or two of waiting (incase it is just slow) it doesn't respond. I use this for work for taking pictures, editing and displaying pictures of my work.  Basically it is my portfolio.  But The screen is horrible! I wanted to throw the darn thing last night because it wouldn't respond of course I didn't but I really wanted to and that is a lot for me. I am the most optimistic person in the world probably with patience of a Saint I have been told. But this thing is driving me mad. I can't win. I transfer to this from an Ipad the only reason I left the IPad was because their editing apps are not free. I spent $150  on apps where on Samsung I can do it all for free do I ditched the IPad for the Samsung. I love my Samsung phone so I thought this would be a bigger version and in some ways it is but this screen is driving me nuts. I spent 12 hours setting the Samsung up with everything I needed so I guess I am stuck with it because I am not doing it again on another one. Stupid Screen!\",\n",
       " \"I received my package after the estimated time of delivery. However the tab works great audio sounds excellent.  .This tab was purchased for studying on the go and it fulfills just that. In the one week I've had now.\",\n",
       " \"Very good product. But the charging cord is useless. I'm  glad I read the ratings before ordering,\"]"
      ]
     },
     "execution_count": 49,
     "metadata": {},
     "output_type": "execute_result"
    }
   ],
   "source": [
    "for b in div_data:\n",
    "    soup = bs(driver.page_source, 'html.parser')\n",
    "    soup.find_all('review-body')\n",
    "    div_data = soup.find_all(\n",
    "        \"span\",\n",
    "        attrs = {\n",
    "            # 'class' : 'a-size-base review-text review-text-content'\n",
    "            'data-hook' : 'review-body'\n",
    "        }\n",
    "    )\n",
    "    div_data[0].get_text()\n",
    "    review_data = []\n",
    "    for i in div_data:\n",
    "        # print(i.get_text().strip())\n",
    "        review_data.append(i.get_text().strip())\n",
    "    a_link = driver.find_element(By.CLASS_NAME, 'a-last')"
   ]
  },
  {
   "cell_type": "code",
   "execution_count": null,
   "metadata": {},
   "outputs": [],
   "source": []
  }
 ],
 "metadata": {
  "kernelspec": {
   "display_name": "Python 3",
   "language": "python",
   "name": "python3"
  },
  "language_info": {
   "codemirror_mode": {
    "name": "ipython",
    "version": 3
   },
   "file_extension": ".py",
   "mimetype": "text/x-python",
   "name": "python",
   "nbconvert_exporter": "python",
   "pygments_lexer": "ipython3",
   "version": "3.12.1"
  }
 },
 "nbformat": 4,
 "nbformat_minor": 2
}
